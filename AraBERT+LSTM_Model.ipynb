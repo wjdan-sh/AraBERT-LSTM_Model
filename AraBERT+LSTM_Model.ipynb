{
  "cells": [
    {
      "cell_type": "markdown",
      "metadata": {
        "id": "view-in-github",
        "colab_type": "text"
      },
      "source": [
        "<a href=\"https://colab.research.google.com/github/wjdan-sh/AraBERT-LSTM_Model/blob/main/AraBERT%2BLSTM_Model.ipynb\" target=\"_parent\"><img src=\"https://colab.research.google.com/assets/colab-badge.svg\" alt=\"Open In Colab\"/></a>"
      ]
    },
    {
      "cell_type": "code",
      "execution_count": null,
      "metadata": {
        "colab": {
          "base_uri": "https://localhost:8080/"
        },
        "id": "J2PWa9LEjIox",
        "outputId": "cf2aa233-77ff-4364-f8f1-cb2ee87dedad"
      },
      "outputs": [
        {
          "output_type": "stream",
          "name": "stdout",
          "text": [
            "Collecting farasapy\n",
            "  Downloading farasapy-0.0.14-py3-none-any.whl.metadata (8.9 kB)\n",
            "Requirement already satisfied: requests in /usr/local/lib/python3.10/dist-packages (from farasapy) (2.32.3)\n",
            "Requirement already satisfied: tqdm in /usr/local/lib/python3.10/dist-packages (from farasapy) (4.66.6)\n",
            "Requirement already satisfied: charset-normalizer<4,>=2 in /usr/local/lib/python3.10/dist-packages (from requests->farasapy) (3.4.0)\n",
            "Requirement already satisfied: idna<4,>=2.5 in /usr/local/lib/python3.10/dist-packages (from requests->farasapy) (3.10)\n",
            "Requirement already satisfied: urllib3<3,>=1.21.1 in /usr/local/lib/python3.10/dist-packages (from requests->farasapy) (2.2.3)\n",
            "Requirement already satisfied: certifi>=2017.4.17 in /usr/local/lib/python3.10/dist-packages (from requests->farasapy) (2024.8.30)\n",
            "Downloading farasapy-0.0.14-py3-none-any.whl (11 kB)\n",
            "Installing collected packages: farasapy\n",
            "Successfully installed farasapy-0.0.14\n"
          ]
        }
      ],
      "source": [
        "pip  install -U farasapy"
      ]
    },
    {
      "cell_type": "code",
      "execution_count": null,
      "metadata": {
        "id": "XHtM9cBr4uNh"
      },
      "outputs": [],
      "source": [
        "from farasa.segmenter import FarasaSegmenter\n",
        "from farasa.pos import FarasaPOSTagger\n",
        "from farasa.ner import FarasaNamedEntityRecognizer\n",
        "from farasa.stemmer import FarasaStemmer\n",
        "import pandas as pd\n",
        "import pandas as np\n",
        "\n",
        "import re\n",
        "from sklearn.model_selection import train_test_split\n",
        "from transformers import AutoTokenizer, TFAutoModelForSequenceClassification\n",
        "import tensorflow as tf\n"
      ]
    },
    {
      "cell_type": "code",
      "execution_count": null,
      "metadata": {
        "id": "nGt8Idij-9Gb"
      },
      "outputs": [],
      "source": [
        "data = pd.read_csv(\"/content/cleaned_data.csv\")"
      ]
    },
    {
      "cell_type": "code",
      "source": [
        "import matplotlib.pyplot as plt\n",
        "\n",
        "# Read the data from the CSV file into a DataFrame\n",
        "data2 = pd.read_csv(\"/content/cleaned_data.csv\")\n",
        "\n",
        "# Calculate the counts of texts with label 1 and label 0\n",
        "count_1 = data[data['label'] == 1].shape[0]\n",
        "count_0 = data[data['label'] == 0].shape[0]\n",
        "\n",
        "\n",
        "print(\"Bullying: \", count_1)\n",
        "print(\"Non-bullying: \", count_0)\n",
        "\n",
        "# Create a list of the counts\n",
        "values = [count_0, count_1]\n",
        "labels = ['Non-bullying', 'Bullying']\n",
        "\n",
        "# Plot the data\n",
        "plt.bar(labels, values, color=['#38B6FF', '#7ED957'])\n",
        "plt.xlabel('Label')\n",
        "plt.ylabel('Number of Texts')\n",
        "plt.title('Number of Texts by Label')\n",
        "plt.show()"
      ],
      "metadata": {
        "colab": {
          "base_uri": "https://localhost:8080/",
          "height": 506
        },
        "id": "LMBj4t9XXmjv",
        "outputId": "ebf53e4a-df9e-468a-97c9-36e2b39e13fa"
      },
      "execution_count": null,
      "outputs": [
        {
          "output_type": "stream",
          "name": "stdout",
          "text": [
            "Bullying:  7510\n",
            "Non-bullying:  10443\n"
          ]
        },
        {
          "output_type": "display_data",
          "data": {
            "text/plain": [
              "<Figure size 640x480 with 1 Axes>"
            ],
            "image/png": "[encoded data removed]"
          },
          "metadata": {}
        }
      ]
    },
    {
      "cell_type": "code",
      "execution_count": null,
      "metadata": {
        "colab": {
          "base_uri": "https://localhost:8080/"
        },
        "id": "E9DXWzVwBB-a",
        "outputId": "c91afc5d-df65-4a7e-87df-14b06f921aa5"
      },
      "outputs": [
        {
          "output_type": "stream",
          "name": "stderr",
          "text": [
            "/usr/local/lib/python3.10/dist-packages/urllib3/connectionpool.py:1099: InsecureRequestWarning: Unverified HTTPS request is being made to host 'farasa-api.qcri.org'. Adding certificate verification is strongly advised. See: https://urllib3.readthedocs.io/en/latest/advanced-usage.html#tls-warnings\n",
            "  warnings.warn(\n"
          ]
        },
        {
          "output_type": "stream",
          "name": "stdout",
          "text": [
            "100%|██████████| 241M/241M [04:11<00:00, 959kiB/s] \n"
          ]
        },
        {
          "output_type": "stream",
          "name": "stderr",
          "text": [
            "[2024-12-02 15:00:20,706 - farasapy_logger - WARNING]: Be careful with large lines as they may break on interactive mode. You may switch to Standalone mode for such cases.\n",
            "[2024-12-02 15:00:24,730 - farasapy_logger - WARNING]: Be careful with large lines as they may break on interactive mode. You may switch to Standalone mode for such cases.\n"
          ]
        }
      ],
      "source": [
        "\n",
        "# Initialize Farasa tools\n",
        "segmenter = FarasaSegmenter(interactive=True)\n",
        "stemmer = FarasaStemmer(interactive=True)\n"
      ]
    },
    {
      "cell_type": "code",
      "execution_count": null,
      "metadata": {
        "id": "AGyTEtInBD_u"
      },
      "outputs": [],
      "source": [
        "# 1.1 - Clean the text\n",
        "def clean_text(text):\n",
        "    # Check if the value is non-string\n",
        "    if isinstance(text, float) or isinstance(text, int) or text is None:\n",
        "        return ''\n",
        "\n",
        "    # Remove URLs, mentions, hashtags, and numbers\n",
        "    text = re.sub(r'http\\S+|www\\S+|https\\S+|@[^\\s]+|#\\S+|\\d+', '', text, flags=re.MULTILINE)\n",
        "\n",
        "    # Remove special characters and punctuation\n",
        "    text = re.sub(r'[^\\w\\s]', '', text)\n",
        "\n",
        "    # Remove English characters and numbers\n",
        "    text = re.sub(r'[a-zA-Z0-9]', '', text)\n",
        "\n",
        "    return text\n"
      ]
    },
    {
      "cell_type": "code",
      "execution_count": null,
      "metadata": {
        "id": "bPW7dKkjBGVu"
      },
      "outputs": [],
      "source": [
        "# 1.2 - Normalize the text\n",
        "def normalize_text(text):\n",
        "    # Normalize Arabic letters\n",
        "    text = re.sub(\"[إأٱآا]\", \"ا\", text)\n",
        "    text = re.sub(\"ى\", \"ي\", text)\n",
        "    text = re.sub(\"_\", \" \", text)\n",
        "    text = re.sub(\"#\", \" \", text)\n",
        "    text = re.sub(\"ؤ\", \"و\", text)\n",
        "    text = re.sub(\"ة\", \"ه\", text)\n",
        "\n",
        "    # Remove diacritics (tashkeel, etc.)\n",
        "    noise = re.compile(\"\"\"   ّ    | # Tashdid\n",
        "                             َ    | # Fatha\n",
        "                             ً    | # Tanwin Fath\n",
        "                             ُ    | # Damma\n",
        "                             ٌ    | # Tanwin Damm\n",
        "                             ِ    | # Kasra\n",
        "                             ٍ    | # Tanwin Kasr\n",
        "                             ْ    | # Sukun\n",
        "                             ـ     # Tatwil/Kashida\n",
        "                         \"\"\", re.VERBOSE)\n",
        "    text = re.sub(noise, '', text)\n",
        "\n",
        "    # Remove repeating characters (like \"ههههه\" -> \"ه\")\n",
        "    text = re.sub(r'(.)\\1+', r'\\1', text)\n",
        "\n",
        "    return text\n"
      ]
    },
    {
      "cell_type": "code",
      "source": [
        "STOP_WORDS = set([\n",
        "    \"في\", \"على\", \"ما\", \"من\", \"إلى\", \"عن\", \"أن\", \"لا\", \"لم\", \"لن\", \"به\", \"فيه\",\n",
        "    \"عليه\", \"عليها\", \"مع\", \"هذا\", \"هذه\", \"ذلك\", \"تلك\", \"هناك\", \"هنا\", \"إذ\", \"إذًا\",\n",
        "    \"كان\", \"كانت\", \"يكون\", \"يكونوا\", \"كنت\", \"نحن\", \"هو\", \"هي\", \"هم\", \"أنت\", \"أنتم\",\n",
        "    \"أنا\", \"لذلك\", \"لكن\", \"أو\", \"و\", \"ثم\", \"أي\", \"فقط\", \"حتى\", \"إلا\"\n",
        "])"
      ],
      "metadata": {
        "id": "zgCbtocLyUKC"
      },
      "execution_count": null,
      "outputs": []
    },
    {
      "cell_type": "code",
      "execution_count": null,
      "metadata": {
        "id": "il8B9_Y2j1qO"
      },
      "outputs": [],
      "source": [
        "\n",
        "# 1.3 - Remove Stop Words\n",
        "def remove_stop_words(text):\n",
        "    \"\"\"Removes common Arabic stop words.\"\"\"\n",
        "    tokens = text.split()  # Split text into tokens\n",
        "    filtered_tokens = [word for word in tokens if word not in STOP_WORDS]\n",
        "    return ' '.join(filtered_tokens)\n"
      ]
    },
    {
      "cell_type": "code",
      "execution_count": null,
      "metadata": {
        "id": "FzgVvOiD-RXr"
      },
      "outputs": [],
      "source": [
        "# 1.4 - Preprocess the text using Farasa\n",
        "def preprocess_with_farasa(text):\n",
        "    # Clean and normalize the text\n",
        "    text = clean_text(text)\n",
        "    text = normalize_text(text)\n",
        "    text = remove_stop_words(text)  # Remove stop words\n",
        "\n",
        "\n",
        "    # Segment the text using Farasa\n",
        "    segmented_text = segmenter.segment(text)\n",
        "\n",
        "    # Stem the segmented text using Farasa\n",
        "    stemmed_tokens = [stemmer.stem(word) for word in segmented_text.split()]\n",
        "\n",
        "    # Join the stemmed tokens back into a single string\n",
        "    preprocessed_text = ' '.join(stemmed_tokens)\n",
        "\n",
        "    return preprocessed_text"
      ]
    },
    {
      "cell_type": "code",
      "execution_count": null,
      "metadata": {
        "colab": {
          "base_uri": "https://localhost:8080/",
          "height": 204
        },
        "id": "UOgzOEf_-1pG",
        "outputId": "ccd4282e-8b38-4876-9094-d91664c87798"
      },
      "outputs": [
        {
          "output_type": "execute_result",
          "data": {
            "text/plain": [
              "                                                text  label\n",
              "0                شمس مثقف  ه جميل  ه وايد حلم هع قال      1\n",
              "1  حلم ان  ي حب  ت  ها أكثر لان انظلم  ت كثير ال ...      0\n",
              "2                        كبرلفك و  اله دايضحكون عليج      0\n",
              "3                            و  اله كلام  ه صحيح شمس      0\n",
              "4  ذكرى نسي  نا  ك و  ما حد ب  أنسى  نا صوت  ك ال...      0"
            ],
            "text/html": [
              "\n",
              "  <div id=\"df-e6dfca90-ae55-4c1d-a5d8-9787e557835e\" class=\"colab-df-container\">\n",
              "    <div>\n",
              "<style scoped>\n",
              "    .dataframe tbody tr th:only-of-type {\n",
              "        vertical-align: middle;\n",
              "    }\n",
              "\n",
              "    .dataframe tbody tr th {\n",
              "        vertical-align: top;\n",
              "    }\n",
              "\n",
              "    .dataframe thead th {\n",
              "        text-align: right;\n",
              "    }\n",
              "</style>\n",
              "<table border=\"1\" class=\"dataframe\">\n",
              "  <thead>\n",
              "    <tr style=\"text-align: right;\">\n",
              "      <th></th>\n",
              "      <th>text</th>\n",
              "      <th>label</th>\n",
              "    </tr>\n",
              "  </thead>\n",
              "  <tbody>\n",
              "    <tr>\n",
              "      <th>0</th>\n",
              "      <td>شمس مثقف  ه جميل  ه وايد حلم هع قال</td>\n",
              "      <td>1</td>\n",
              "    </tr>\n",
              "    <tr>\n",
              "      <th>1</th>\n",
              "      <td>حلم ان  ي حب  ت  ها أكثر لان انظلم  ت كثير ال ...</td>\n",
              "      <td>0</td>\n",
              "    </tr>\n",
              "    <tr>\n",
              "      <th>2</th>\n",
              "      <td>كبرلفك و  اله دايضحكون عليج</td>\n",
              "      <td>0</td>\n",
              "    </tr>\n",
              "    <tr>\n",
              "      <th>3</th>\n",
              "      <td>و  اله كلام  ه صحيح شمس</td>\n",
              "      <td>0</td>\n",
              "    </tr>\n",
              "    <tr>\n",
              "      <th>4</th>\n",
              "      <td>ذكرى نسي  نا  ك و  ما حد ب  أنسى  نا صوت  ك ال...</td>\n",
              "      <td>0</td>\n",
              "    </tr>\n",
              "  </tbody>\n",
              "</table>\n",
              "</div>\n",
              "    <div class=\"colab-df-buttons\">\n",
              "\n",
              "  <div class=\"colab-df-container\">\n",
              "    <button class=\"colab-df-convert\" onclick=\"convertToInteractive('df-e6dfca90-ae55-4c1d-a5d8-9787e557835e')\"\n",
              "            title=\"Convert this dataframe to an interactive table.\"\n",
              "            style=\"display:none;\">\n",
              "\n",
              "  <svg xmlns=\"http://www.w3.org/2000/svg\" height=\"24px\" viewBox=\"0 -960 960 960\">\n",
              "    <path d=\"M120-120v-720h720v720H120Zm60-500h600v-160H180v160Zm220 220h160v-160H400v160Zm0 220h160v-160H400v160ZM180-400h160v-160H180v160Zm440 0h160v-160H620v160ZM180-180h160v-160H180v160Zm440 0h160v-160H620v160Z\"/>\n",
              "  </svg>\n",
              "    </button>\n",
              "\n",
              "  <style>\n",
              "    .colab-df-container {\n",
              "      display:flex;\n",
              "      gap: 12px;\n",
              "    }\n",
              "\n",
              "    .colab-df-convert {\n",
              "      background-color: #E8F0FE;\n",
              "      border: none;\n",
              "      border-radius: 50%;\n",
              "      cursor: pointer;\n",
              "      display: none;\n",
              "      fill: #1967D2;\n",
              "      height: 32px;\n",
              "      padding: 0 0 0 0;\n",
              "      width: 32px;\n",
              "    }\n",
              "\n",
              "    .colab-df-convert:hover {\n",
              "      background-color: #E2EBFA;\n",
              "      box-shadow: 0px 1px 2px rgba(60, 64, 67, 0.3), 0px 1px 3px 1px rgba(60, 64, 67, 0.15);\n",
              "      fill: #174EA6;\n",
              "    }\n",
              "\n",
              "    .colab-df-buttons div {\n",
              "      margin-bottom: 4px;\n",
              "    }\n",
              "\n",
              "    [theme=dark] .colab-df-convert {\n",
              "      background-color: #3B4455;\n",
              "      fill: #D2E3FC;\n",
              "    }\n",
              "\n",
              "    [theme=dark] .colab-df-convert:hover {\n",
              "      background-color: #434B5C;\n",
              "      box-shadow: 0px 1px 3px 1px rgba(0, 0, 0, 0.15);\n",
              "      filter: drop-shadow(0px 1px 2px rgba(0, 0, 0, 0.3));\n",
              "      fill: #FFFFFF;\n",
              "    }\n",
              "  </style>\n",
              "\n",
              "    <script>\n",
              "      const buttonEl =\n",
              "        document.querySelector('#df-e6dfca90-ae55-4c1d-a5d8-9787e557835e button.colab-df-convert');\n",
              "      buttonEl.style.display =\n",
              "        google.colab.kernel.accessAllowed ? 'block' : 'none';\n",
              "\n",
              "      async function convertToInteractive(key) {\n",
              "        const element = document.querySelector('#df-e6dfca90-ae55-4c1d-a5d8-9787e557835e');\n",
              "        const dataTable =\n",
              "          await google.colab.kernel.invokeFunction('convertToInteractive',\n",
              "                                                    [key], {});\n",
              "        if (!dataTable) return;\n",
              "\n",
              "        const docLinkHtml = 'Like what you see? Visit the ' +\n",
              "          '<a target=\"_blank\" href=https://colab.research.google.com/notebooks/data_table.ipynb>data table notebook</a>'\n",
              "          + ' to learn more about interactive tables.';\n",
              "        element.innerHTML = '';\n",
              "        dataTable['output_type'] = 'display_data';\n",
              "        await google.colab.output.renderOutput(dataTable, element);\n",
              "        const docLink = document.createElement('div');\n",
              "        docLink.innerHTML = docLinkHtml;\n",
              "        element.appendChild(docLink);\n",
              "      }\n",
              "    </script>\n",
              "  </div>\n",
              "\n",
              "\n",
              "<div id=\"df-61494308-e33a-4a2b-9fde-c1ef512a517c\">\n",
              "  <button class=\"colab-df-quickchart\" onclick=\"quickchart('df-61494308-e33a-4a2b-9fde-c1ef512a517c')\"\n",
              "            title=\"Suggest charts\"\n",
              "            style=\"display:none;\">\n",
              "\n",
              "<svg xmlns=\"http://www.w3.org/2000/svg\" height=\"24px\"viewBox=\"0 0 24 24\"\n",
              "     width=\"24px\">\n",
              "    <g>\n",
              "        <path d=\"M19 3H5c-1.1 0-2 .9-2 2v14c0 1.1.9 2 2 2h14c1.1 0 2-.9 2-2V5c0-1.1-.9-2-2-2zM9 17H7v-7h2v7zm4 0h-2V7h2v10zm4 0h-2v-4h2v4z\"/>\n",
              "    </g>\n",
              "</svg>\n",
              "  </button>\n",
              "\n",
              "<style>\n",
              "  .colab-df-quickchart {\n",
              "      --bg-color: #E8F0FE;\n",
              "      --fill-color: #1967D2;\n",
              "      --hover-bg-color: #E2EBFA;\n",
              "      --hover-fill-color: #174EA6;\n",
              "      --disabled-fill-color: #AAA;\n",
              "      --disabled-bg-color: #DDD;\n",
              "  }\n",
              "\n",
              "  [theme=dark] .colab-df-quickchart {\n",
              "      --bg-color: #3B4455;\n",
              "      --fill-color: #D2E3FC;\n",
              "      --hover-bg-color: #434B5C;\n",
              "      --hover-fill-color: #FFFFFF;\n",
              "      --disabled-bg-color: #3B4455;\n",
              "      --disabled-fill-color: #666;\n",
              "  }\n",
              "\n",
              "  .colab-df-quickchart {\n",
              "    background-color: var(--bg-color);\n",
              "    border: none;\n",
              "    border-radius: 50%;\n",
              "    cursor: pointer;\n",
              "    display: none;\n",
              "    fill: var(--fill-color);\n",
              "    height: 32px;\n",
              "    padding: 0;\n",
              "    width: 32px;\n",
              "  }\n",
              "\n",
              "  .colab-df-quickchart:hover {\n",
              "    background-color: var(--hover-bg-color);\n",
              "    box-shadow: 0 1px 2px rgba(60, 64, 67, 0.3), 0 1px 3px 1px rgba(60, 64, 67, 0.15);\n",
              "    fill: var(--button-hover-fill-color);\n",
              "  }\n",
              "\n",
              "  .colab-df-quickchart-complete:disabled,\n",
              "  .colab-df-quickchart-complete:disabled:hover {\n",
              "    background-color: var(--disabled-bg-color);\n",
              "    fill: var(--disabled-fill-color);\n",
              "    box-shadow: none;\n",
              "  }\n",
              "\n",
              "  .colab-df-spinner {\n",
              "    border: 2px solid var(--fill-color);\n",
              "    border-color: transparent;\n",
              "    border-bottom-color: var(--fill-color);\n",
              "    animation:\n",
              "      spin 1s steps(1) infinite;\n",
              "  }\n",
              "\n",
              "  @keyframes spin {\n",
              "    0% {\n",
              "      border-color: transparent;\n",
              "      border-bottom-color: var(--fill-color);\n",
              "      border-left-color: var(--fill-color);\n",
              "    }\n",
              "    20% {\n",
              "      border-color: transparent;\n",
              "      border-left-color: var(--fill-color);\n",
              "      border-top-color: var(--fill-color);\n",
              "    }\n",
              "    30% {\n",
              "      border-color: transparent;\n",
              "      border-left-color: var(--fill-color);\n",
              "      border-top-color: var(--fill-color);\n",
              "      border-right-color: var(--fill-color);\n",
              "    }\n",
              "    40% {\n",
              "      border-color: transparent;\n",
              "      border-right-color: var(--fill-color);\n",
              "      border-top-color: var(--fill-color);\n",
              "    }\n",
              "    60% {\n",
              "      border-color: transparent;\n",
              "      border-right-color: var(--fill-color);\n",
              "    }\n",
              "    80% {\n",
              "      border-color: transparent;\n",
              "      border-right-color: var(--fill-color);\n",
              "      border-bottom-color: var(--fill-color);\n",
              "    }\n",
              "    90% {\n",
              "      border-color: transparent;\n",
              "      border-bottom-color: var(--fill-color);\n",
              "    }\n",
              "  }\n",
              "</style>\n",
              "\n",
              "  <script>\n",
              "    async function quickchart(key) {\n",
              "      const quickchartButtonEl =\n",
              "        document.querySelector('#' + key + ' button');\n",
              "      quickchartButtonEl.disabled = true;  // To prevent multiple clicks.\n",
              "      quickchartButtonEl.classList.add('colab-df-spinner');\n",
              "      try {\n",
              "        const charts = await google.colab.kernel.invokeFunction(\n",
              "            'suggestCharts', [key], {});\n",
              "      } catch (error) {\n",
              "        console.error('Error during call to suggestCharts:', error);\n",
              "      }\n",
              "      quickchartButtonEl.classList.remove('colab-df-spinner');\n",
              "      quickchartButtonEl.classList.add('colab-df-quickchart-complete');\n",
              "    }\n",
              "    (() => {\n",
              "      let quickchartButtonEl =\n",
              "        document.querySelector('#df-61494308-e33a-4a2b-9fde-c1ef512a517c button');\n",
              "      quickchartButtonEl.style.display =\n",
              "        google.colab.kernel.accessAllowed ? 'block' : 'none';\n",
              "    })();\n",
              "  </script>\n",
              "</div>\n",
              "\n",
              "    </div>\n",
              "  </div>\n"
            ],
            "application/vnd.google.colaboratory.intrinsic+json": {
              "type": "dataframe",
              "variable_name": "data",
              "summary": "{\n  \"name\": \"data\",\n  \"rows\": 17953,\n  \"fields\": [\n    {\n      \"column\": \"text\",\n      \"properties\": {\n        \"dtype\": \"string\",\n        \"num_unique_values\": 17638,\n        \"samples\": [\n          \"\\u0628\\u0639\\u062f  \\u064a\\u0646 \\u0627\\u0646\\u062a\\u064a \\u0645\\u0646\\u0648 \\u062d\\u062a\\u064a \\u062a\\u062d\\u062c\\u064a\\u0646 \\u0639\\u0644\\u064a \\u0631\\u0627\\u063a\\u0628 \\u0639\\u0644\\u0627\\u0645  \\u0647 \\u0628\\u0639\\u062f  \\u064a\\u0646 \\u0631\\u0627\\u063a\\u0628 \\u0645\\u0627\\u064a\\u0633\\u0648\\u064a \\u0645\\u0634\\u0643\\u0644\\u0629 \\u0627\\u0646\\u062a\\u064a \\u0644 \\u062a\\u0633\\u0648\\u064a\\u0646 \\u0645\\u0634\\u0643\\u0644\\u0629\",\n          \"\\u0623\\u064a \\u0643\\u0627\\u0646  \\u0648\\u0627 \\u0631\\u062d\\u062a\\u0648\\u0627 \\u0639\\u0646\\u062f \\u062c\\u0628\\u0631\\u0627\\u0646 \\u0628\\u0627\\u0633\\u064a\\u0644 \\u062a\\u0634\\u0643\\u064a\\u062a\\u0648\\u0627 \\u0647\\u0648\\u062f  \\u064a \\u062d\\u0644\\u0641\\u0627\\u0626\\u0643\\u0646 \\u0627\\u0644\\u064a \\u0642\\u0627\\u0644  \\u0648\\u0627 \\u0634\\u0647\\u064a\\u062f \\u0627\\u0644  \\u062d\\u0632\\u0628 \\u0627\\u0644  \\u0627\\u0634\\u062a\\u0631\\u0627\\u0643\\u064a \\u0627\\u0644\\u064a \\u062d\\u0645\\u0648  \\u0627 \\u0639\\u0631\\u0636  \\u0643\",\n          \"\\u0627\\u0641\\u062a\\u062e\\u0631 \\u0628  \\u0645\\u062f\\u0631\\u0633  \\u0647 \\u0627\\u0644  \\u0639\\u0645\\u0627\\u062f \\u0627\\u0644  \\u0639\\u0648\\u0646\"\n        ],\n        \"semantic_type\": \"\",\n        \"description\": \"\"\n      }\n    },\n    {\n      \"column\": \"label\",\n      \"properties\": {\n        \"dtype\": \"number\",\n        \"std\": 0,\n        \"min\": 0,\n        \"max\": 1,\n        \"num_unique_values\": 2,\n        \"samples\": [\n          0,\n          1\n        ],\n        \"semantic_type\": \"\",\n        \"description\": \"\"\n      }\n    }\n  ]\n}"
            }
          },
          "metadata": {},
          "execution_count": 11
        }
      ],
      "source": [
        "# Example usage on a dataset\n",
        "data[\"text\"] = data[\"text\"].astype(str).apply(preprocess_with_farasa)\n",
        "\n",
        "# Display the first few rows of the processed dataset\n",
        "data.head()"
      ]
    },
    {
      "cell_type": "code",
      "execution_count": null,
      "metadata": {
        "id": "RReItUipq0dN"
      },
      "outputs": [],
      "source": [
        "\n",
        "X = data['text'].values\n",
        "y = data['label'].values\n",
        "X_train, X_test, y_train, y_test = train_test_split(X, y,test_size = 0.2, random_state = 42)\n"
      ]
    },
    {
      "cell_type": "code",
      "execution_count": null,
      "metadata": {
        "colab": {
          "base_uri": "https://localhost:8080/",
          "height": 416,
          "referenced_widgets": [
            "fd645abd6f704280b27bbf0bce36778c",
            "324eb458522047d090f4339af973cafa",
            "747bf7a85f2d419a855dbf47c3cf59c3",
            "9bcd3828f47f439685dd25cd042d3b51",
            "9cacbabb597f431795b1f07a963180e5",
            "e2889f6a8a7f40acb2718ea5c6dbaf73",
            "54004327b6eb44e89e58c85d2e37dc70",
            "853c460bf9474b1995caec6ed4ccf2da",
            "c6f84d7965814781a3f8a206116c57e3",
            "197a992a119b44889039a9ec3a4f5afa",
            "da3aa06ad5174dca80275609eb3bca7a",
            "fb0005fda99d4c419de6b8a88ebf04ec",
            "d419d0118b654e9893046d5236939c9a",
            "89828101c8094bb0a67e81c24ffb32cc",
            "96b765bf06ce4d9d94d444af57f08514",
            "c1a42bf83bae4d13a81051306053c781",
            "6b0c9d6fae504fa8a2df921d4f0ea637",
            "57ad0958b2094d08966b0bd67329e496",
            "223c53fa0d37488f9ef4c6f7aa8da44a",
            "814e84a2a27f42ea8c8f57ba1455b39f",
            "674c92ff749c41098fffe838ebc814d6",
            "4792e8dee693438194d90f9736cc5998",
            "0dff5ad41bda45b9adc61b981fcc4a79",
            "8a53976210a94deaa3eae9e6687be762",
            "f6ec665888b0472abb87c5b9d1ba10fd",
            "26971978b1b8407f9a0905451cee0c33",
            "46027c88e6f04a9f8607661145e446f8",
            "e37b1a1f37114a47b19e9772162fcb75",
            "97376832cc954b359ceae1a100e6a9b6",
            "54b1e517ea5a4c3c9dfc97dd963a154e",
            "fc9ebc0263e34623abda499ac08ec90a",
            "eba8d2579a254e2ab0d21fa561534ee7",
            "fcef05df9f8d4a789aef0cef9ab5a390",
            "73a5833bd57643af90b44613feaf4910",
            "515ed4ac7edb422380aa4a05cedfa5f6",
            "5c5c0d368a49436ca792c1a99c30514b",
            "b48a854e4bdf4272b7ad39522c91ba98",
            "4360c9df4f4749b69bda1aecbdd06270",
            "a30b726aea494a59a74a6c4cb9249c55",
            "2816978c3c8d45a881934e715d8c1dbf",
            "517b2141115a42379608139b81a40033",
            "ccc3d2add15a4eb1a40062e45d12f7a8",
            "3c28f1b57c26498ebf09fc5df0c29eb5",
            "686fcbbd7f8c418bb65356b37a6c748b",
            "5f8d33ee02b7499b8977b1b32f339689",
            "8eccf2c1a5d346ddacf1d470051e668e",
            "70fdaad36e1c468baecea235d51bca26",
            "90ccce8da5c6410b93fc3ba2a12629c8",
            "dc8d2da18707482e97564e1446454f9e",
            "7ba766575ff74214b307e3e7a5f4e9dc",
            "8303a278dada445992b08852b690aa41",
            "44469ad81c7d40748b163f89c2655705",
            "99fc671514644d989c8ce72414e785c6",
            "d6fc2a12fa2648df92511627c45479b6",
            "a50544fc2ab748edb0237bab328bd2d7",
            "59b569f12a6348e0ba689962ec2ae0f0",
            "182fef059701429ea52130817ff89bde",
            "c01d7d34312f4fada11fea674f695ba6",
            "4fd207e6f8ca49a5bb292e91523f94f1",
            "ff6e2cf56582407d869880e6de76d926",
            "1631e8d4f41a434f9e786fcca11d247f",
            "fa32dac92a324337aa8e192d688db6ee",
            "92bd9223d8c940938b0ceceda8b6d416",
            "e7d04349e2784f2a99f8fe0dc5334d84",
            "788b523245af412a9f69fb6a77c459fb",
            "a255e57ce3e0441d90e87873462e7998"
          ]
        },
        "id": "xnd5sA5Eq0dN",
        "outputId": "c504b2c8-1ee3-444f-af27-e3fcefebe697"
      },
      "outputs": [
        {
          "output_type": "stream",
          "name": "stderr",
          "text": [
            "/usr/local/lib/python3.10/dist-packages/huggingface_hub/utils/_auth.py:94: UserWarning: \n",
            "The secret `HF_TOKEN` does not exist in your Colab secrets.\n",
            "To authenticate with the Hugging Face Hub, create a token in your settings tab (https://huggingface.co/settings/tokens), set it as secret in your Google Colab and restart your session.\n",
            "You will be able to reuse this secret in all of your notebooks.\n",
            "Please note that authentication is recommended but still optional to access public models or datasets.\n",
            "  warnings.warn(\n"
          ]
        },
        {
          "output_type": "display_data",
          "data": {
            "text/plain": [
              "tokenizer_config.json:   0%|          | 0.00/611 [00:00<?, ?B/s]"
            ],
            "application/vnd.jupyter.widget-view+json": {
              "version_major": 2,
              "version_minor": 0,
              "model_id": "fd645abd6f704280b27bbf0bce36778c"
            }
          },
          "metadata": {}
        },
        {
          "output_type": "display_data",
          "data": {
            "text/plain": [
              "config.json:   0%|          | 0.00/384 [00:00<?, ?B/s]"
            ],
            "application/vnd.jupyter.widget-view+json": {
              "version_major": 2,
              "version_minor": 0,
              "model_id": "fb0005fda99d4c419de6b8a88ebf04ec"
            }
          },
          "metadata": {}
        },
        {
          "output_type": "display_data",
          "data": {
            "text/plain": [
              "vocab.txt:   0%|          | 0.00/720k [00:00<?, ?B/s]"
            ],
            "application/vnd.jupyter.widget-view+json": {
              "version_major": 2,
              "version_minor": 0,
              "model_id": "0dff5ad41bda45b9adc61b981fcc4a79"
            }
          },
          "metadata": {}
        },
        {
          "output_type": "display_data",
          "data": {
            "text/plain": [
              "tokenizer.json:   0%|          | 0.00/2.31M [00:00<?, ?B/s]"
            ],
            "application/vnd.jupyter.widget-view+json": {
              "version_major": 2,
              "version_minor": 0,
              "model_id": "73a5833bd57643af90b44613feaf4910"
            }
          },
          "metadata": {}
        },
        {
          "output_type": "display_data",
          "data": {
            "text/plain": [
              "special_tokens_map.json:   0%|          | 0.00/112 [00:00<?, ?B/s]"
            ],
            "application/vnd.jupyter.widget-view+json": {
              "version_major": 2,
              "version_minor": 0,
              "model_id": "5f8d33ee02b7499b8977b1b32f339689"
            }
          },
          "metadata": {}
        },
        {
          "output_type": "display_data",
          "data": {
            "text/plain": [
              "model.safetensors:   0%|          | 0.00/543M [00:00<?, ?B/s]"
            ],
            "application/vnd.jupyter.widget-view+json": {
              "version_major": 2,
              "version_minor": 0,
              "model_id": "59b569f12a6348e0ba689962ec2ae0f0"
            }
          },
          "metadata": {}
        },
        {
          "output_type": "stream",
          "name": "stderr",
          "text": [
            "Some weights of the PyTorch model were not used when initializing the TF 2.0 model TFBertForSequenceClassification: ['bert.embeddings.position_ids']\n",
            "- This IS expected if you are initializing TFBertForSequenceClassification from a PyTorch model trained on another task or with another architecture (e.g. initializing a TFBertForSequenceClassification model from a BertForPreTraining model).\n",
            "- This IS NOT expected if you are initializing TFBertForSequenceClassification from a PyTorch model that you expect to be exactly identical (e.g. initializing a TFBertForSequenceClassification model from a BertForSequenceClassification model).\n",
            "Some weights or buffers of the TF 2.0 model TFBertForSequenceClassification were not initialized from the PyTorch model and are newly initialized: ['classifier.weight', 'classifier.bias']\n",
            "You should probably TRAIN this model on a down-stream task to be able to use it for predictions and inference.\n"
          ]
        }
      ],
      "source": [
        "\n",
        "tokenizer = AutoTokenizer.from_pretrained(\"aubmindlab/bert-base-arabertv2\")\n",
        "model = TFAutoModelForSequenceClassification.from_pretrained(\"aubmindlab/bert-base-arabertv2\", num_labels=2)\n",
        "\n"
      ]
    },
    {
      "cell_type": "code",
      "execution_count": null,
      "metadata": {
        "id": "dmGuGpY0q0dN"
      },
      "outputs": [],
      "source": [
        "max_length = 128\n",
        "# Tokenize training data\n",
        "train_texts = X_train.tolist()\n",
        "train_tokenized_texts = tokenizer(train_texts, padding=True, truncation=True, max_length=max_length, return_tensors=\"tf\")\n",
        "\n",
        "# Tokenize testing data\n",
        "test_texts = X_test.tolist()\n",
        "test_tokenized_texts = tokenizer(test_texts, padding=True, truncation=True, max_length=max_length, return_tensors=\"tf\")\n",
        "\n"
      ]
    },
    {
      "cell_type": "code",
      "execution_count": null,
      "metadata": {
        "id": "s2sEuUK3q0dN"
      },
      "outputs": [],
      "source": [
        "\n",
        "# Extract input IDs and attention masks\n",
        "train_input_ids = train_tokenized_texts[\"input_ids\"]\n",
        "train_attention_mask = train_tokenized_texts[\"attention_mask\"]"
      ]
    },
    {
      "cell_type": "code",
      "execution_count": null,
      "metadata": {
        "id": "cBtt1-qgq0dN"
      },
      "outputs": [],
      "source": [
        "model.compile(\n",
        "    optimizer=tf.keras.optimizers.Adam(learning_rate=2e-5),\n",
        "    loss=tf.keras.losses.SparseCategoricalCrossentropy(from_logits=True),\n",
        "    metrics=[tf.keras.metrics.SparseCategoricalAccuracy('accuracy')]\n",
        ")"
      ]
    },
    {
      "cell_type": "code",
      "execution_count": null,
      "metadata": {
        "colab": {
          "base_uri": "https://localhost:8080/"
        },
        "id": "2LJZrH9e55QI",
        "outputId": "d25af1ca-5edc-4638-bcb8-e167bafdaf1d"
      },
      "outputs": [
        {
          "output_type": "stream",
          "name": "stdout",
          "text": [
            "Epoch 1/3\n",
            "404/404 [==============================] - 372s 791ms/step - loss: 0.4188 - accuracy: 0.8053 - val_loss: 0.3626 - val_accuracy: 0.8490\n",
            "Epoch 2/3\n",
            "404/404 [==============================] - 332s 821ms/step - loss: 0.2858 - accuracy: 0.8846 - val_loss: 0.3735 - val_accuracy: 0.8455\n",
            "Epoch 3/3\n",
            "404/404 [==============================] - 324s 802ms/step - loss: 0.2070 - accuracy: 0.9195 - val_loss: 0.3779 - val_accuracy: 0.8559\n"
          ]
        }
      ],
      "source": [
        "# Fit the model\n",
        "model_fit = model.fit({\"input_ids\": train_input_ids, \"attention_mask\": train_attention_mask}, y_train, epochs=3, batch_size=32,validation_split=0.1)\n"
      ]
    },
    {
      "cell_type": "code",
      "execution_count": null,
      "metadata": {
        "colab": {
          "base_uri": "https://localhost:8080/"
        },
        "id": "Fe5umViG1wpM",
        "outputId": "55cac623-6540-4fd4-b877-e0ac443a735a"
      },
      "outputs": [
        {
          "output_type": "stream",
          "name": "stdout",
          "text": [
            "113/113 [==============================] - 33s 294ms/step - loss: 0.3173 - accuracy: 0.8780\n",
            "Evaluation results:\n",
            "loss: 0.31731799244880676\n",
            "accuracy: 0.878028392791748\n"
          ]
        }
      ],
      "source": [
        "# Tokenize the testing data\n",
        "test_input_ids = test_tokenized_texts[\"input_ids\"]\n",
        "test_attention_mask = test_tokenized_texts[\"attention_mask\"]\n",
        "\n",
        "# Evaluate the model on the test data\n",
        "evaluation = model.evaluate({\"input_ids\": test_input_ids, \"attention_mask\": test_attention_mask}, y_test)\n",
        "\n",
        "# Print the evaluation results\n",
        "print(\"Evaluation results:\")\n",
        "for metric_name, metric_value in zip(model.metrics_names, evaluation):\n",
        "    print(f\"{metric_name}: {metric_value}\")"
      ]
    },
    {
      "cell_type": "code",
      "execution_count": null,
      "metadata": {
        "id": "TNwX4c-Ginjl"
      },
      "outputs": [],
      "source": [
        "from tensorflow.keras.layers import Embedding, LSTM, Dense, Dropout, Bidirectional, GlobalMaxPooling1D\n",
        "from tensorflow.keras.models import Sequential\n",
        "from tensorflow.keras.preprocessing.text import Tokenizer\n",
        "from tensorflow.keras.preprocessing.sequence import pad_sequences"
      ]
    },
    {
      "cell_type": "code",
      "execution_count": null,
      "metadata": {
        "id": "V0KJdXw6iph9"
      },
      "outputs": [],
      "source": [
        "# Parameters for LSTM\n",
        "max_vocab_size = 20000  # Maximum vocabulary size for tokenization\n",
        "max_sequence_length = 128  # Maximum sequence length (same as AraBERT max_length)\n",
        "embedding_dim = 128  # Embedding dimensions for LSTM\n"
      ]
    },
    {
      "cell_type": "code",
      "execution_count": null,
      "metadata": {
        "id": "0C6hOXWUizmg"
      },
      "outputs": [],
      "source": [
        "# Tokenize the data for the LSTM model\n",
        "lstm_tokenizer = Tokenizer(num_words=max_vocab_size, oov_token=\"<OOV>\")\n",
        "lstm_tokenizer.fit_on_texts(train_texts)  # Fit tokenizer on training data\n",
        "\n",
        "lstm_train_sequences = lstm_tokenizer.texts_to_sequences(train_texts)\n",
        "lstm_test_sequences = lstm_tokenizer.texts_to_sequences(test_texts)\n"
      ]
    },
    {
      "cell_type": "code",
      "execution_count": null,
      "metadata": {
        "id": "VaDXlNfgi4Yu"
      },
      "outputs": [],
      "source": [
        "# Pad sequences to ensure uniform input size\n",
        "lstm_train_padded = pad_sequences(lstm_train_sequences, maxlen=max_sequence_length, padding=\"post\", truncating=\"post\")\n",
        "lstm_test_padded = pad_sequences(lstm_test_sequences, maxlen=max_sequence_length, padding=\"post\", truncating=\"post\")\n"
      ]
    },
    {
      "cell_type": "code",
      "execution_count": null,
      "metadata": {
        "colab": {
          "base_uri": "https://localhost:8080/"
        },
        "id": "HPRNw3Yyi6Or",
        "outputId": "ca32595b-e96d-4c1f-eaea-4ae1b2515d26"
      },
      "outputs": [
        {
          "output_type": "stream",
          "name": "stderr",
          "text": [
            "/usr/local/lib/python3.10/dist-packages/keras/src/layers/core/embedding.py:90: UserWarning: Argument `input_length` is deprecated. Just remove it.\n",
            "  warnings.warn(\n"
          ]
        }
      ],
      "source": [
        "\n",
        "# Build the LSTM model\n",
        "lstm_model = Sequential([\n",
        "    Embedding(max_vocab_size, embedding_dim, input_length=max_sequence_length),\n",
        "    Bidirectional(LSTM(64, return_sequences=True)),  # Bi-directional LSTM\n",
        "    GlobalMaxPooling1D(),  # Max pooling for dimensionality reduction\n",
        "    Dense(64, activation=\"relu\"),\n",
        "    Dropout(0.5),\n",
        "    Dense(2, activation=\"softmax\")  # Output layer for binary classification\n",
        "])\n"
      ]
    },
    {
      "cell_type": "code",
      "execution_count": null,
      "metadata": {
        "id": "slKlM-W7i7au"
      },
      "outputs": [],
      "source": [
        "# Compile the LSTM model\n",
        "lstm_model.compile(\n",
        "    optimizer=tf.keras.optimizers.Adam(learning_rate=5e-5),\n",
        "    loss=\"sparse_categorical_crossentropy\",\n",
        "    metrics=[\"accuracy\"]\n",
        ")\n"
      ]
    },
    {
      "cell_type": "code",
      "execution_count": null,
      "metadata": {
        "colab": {
          "base_uri": "https://localhost:8080/"
        },
        "id": "qFttHsHsi-ue",
        "outputId": "06576c3a-aa57-45ed-99da-e1e8d5dddd4f"
      },
      "outputs": [
        {
          "output_type": "stream",
          "name": "stdout",
          "text": [
            "Epoch 1/10\n",
            "\u001b[1m404/404\u001b[0m \u001b[32m━━━━━━━━━━━━━━━━━━━━\u001b[0m\u001b[37m\u001b[0m \u001b[1m12s\u001b[0m 16ms/step - accuracy: 0.5571 - loss: 0.6864 - val_accuracy: 0.5783 - val_loss: 0.6768\n",
            "Epoch 2/10\n",
            "\u001b[1m404/404\u001b[0m \u001b[32m━━━━━━━━━━━━━━━━━━━━\u001b[0m\u001b[37m\u001b[0m \u001b[1m6s\u001b[0m 13ms/step - accuracy: 0.5861 - loss: 0.6715 - val_accuracy: 0.6138 - val_loss: 0.6546\n",
            "Epoch 3/10\n",
            "\u001b[1m404/404\u001b[0m \u001b[32m━━━━━━━━━━━━━━━━━━━━\u001b[0m\u001b[37m\u001b[0m \u001b[1m7s\u001b[0m 17ms/step - accuracy: 0.6743 - loss: 0.6224 - val_accuracy: 0.7411 - val_loss: 0.5461\n",
            "Epoch 4/10\n",
            "\u001b[1m404/404\u001b[0m \u001b[32m━━━━━━━━━━━━━━━━━━━━\u001b[0m\u001b[37m\u001b[0m \u001b[1m7s\u001b[0m 16ms/step - accuracy: 0.7734 - loss: 0.5008 - val_accuracy: 0.7731 - val_loss: 0.4741\n",
            "Epoch 5/10\n",
            "\u001b[1m404/404\u001b[0m \u001b[32m━━━━━━━━━━━━━━━━━━━━\u001b[0m\u001b[37m\u001b[0m \u001b[1m10s\u001b[0m 15ms/step - accuracy: 0.8346 - loss: 0.3942 - val_accuracy: 0.7975 - val_loss: 0.4341\n",
            "Epoch 6/10\n",
            "\u001b[1m404/404\u001b[0m \u001b[32m━━━━━━━━━━━━━━━━━━━━\u001b[0m\u001b[37m\u001b[0m \u001b[1m10s\u001b[0m 15ms/step - accuracy: 0.8830 - loss: 0.3078 - val_accuracy: 0.8017 - val_loss: 0.4321\n",
            "Epoch 7/10\n",
            "\u001b[1m404/404\u001b[0m \u001b[32m━━━━━━━━━━━━━━━━━━━━\u001b[0m\u001b[37m\u001b[0m \u001b[1m6s\u001b[0m 15ms/step - accuracy: 0.9095 - loss: 0.2480 - val_accuracy: 0.8024 - val_loss: 0.4694\n",
            "Epoch 8/10\n",
            "\u001b[1m404/404\u001b[0m \u001b[32m━━━━━━━━━━━━━━━━━━━━\u001b[0m\u001b[37m\u001b[0m \u001b[1m6s\u001b[0m 16ms/step - accuracy: 0.9308 - loss: 0.2023 - val_accuracy: 0.8010 - val_loss: 0.4893\n",
            "Epoch 9/10\n",
            "\u001b[1m404/404\u001b[0m \u001b[32m━━━━━━━━━━━━━━━━━━━━\u001b[0m\u001b[37m\u001b[0m \u001b[1m9s\u001b[0m 14ms/step - accuracy: 0.9446 - loss: 0.1649 - val_accuracy: 0.8003 - val_loss: 0.5277\n",
            "Epoch 10/10\n",
            "\u001b[1m404/404\u001b[0m \u001b[32m━━━━━━━━━━━━━━━━━━━━\u001b[0m\u001b[37m\u001b[0m \u001b[1m6s\u001b[0m 15ms/step - accuracy: 0.9550 - loss: 0.1346 - val_accuracy: 0.7975 - val_loss: 0.5594\n"
          ]
        }
      ],
      "source": [
        "# Train the LSTM model\n",
        "lstm_model_fit = lstm_model.fit(\n",
        "    lstm_train_padded, y_train,\n",
        "    epochs=10,\n",
        "    batch_size=32,\n",
        "    validation_split=0.1\n",
        ")\n"
      ]
    },
    {
      "cell_type": "code",
      "execution_count": null,
      "metadata": {
        "colab": {
          "base_uri": "https://localhost:8080/"
        },
        "id": "urMIjVL51rCH",
        "outputId": "21e79c8d-3bed-4e18-d4ee-7e14fe84e9ac"
      },
      "outputs": [
        {
          "output_type": "stream",
          "name": "stdout",
          "text": [
            "\u001b[1m113/113\u001b[0m \u001b[32m━━━━━━━━━━━━━━━━━━━━\u001b[0m\u001b[37m\u001b[0m \u001b[1m1s\u001b[0m 7ms/step - accuracy: 0.8284 - loss: 0.4838\n",
            "LSTM Evaluation Results:\n",
            "loss: 0.4962608218193054\n",
            "compile_metrics: 0.8279030919075012\n"
          ]
        }
      ],
      "source": [
        "# Evaluate the LSTM model\n",
        "lstm_evaluation = lstm_model.evaluate(lstm_test_padded, y_test)\n",
        "print(\"LSTM Evaluation Results:\")\n",
        "for metric_name, metric_value in zip(lstm_model.metrics_names, lstm_evaluation):\n",
        "    print(f\"{metric_name}: {metric_value}\")\n"
      ]
    },
    {
      "cell_type": "code",
      "execution_count": null,
      "metadata": {
        "colab": {
          "base_uri": "https://localhost:8080/"
        },
        "id": "d1SdIWjD6LpK",
        "outputId": "af011ce4-2789-43a0-ef2b-a5f3144b90d5"
      },
      "outputs": [
        {
          "output_type": "stream",
          "name": "stdout",
          "text": [
            "\u001b[1m113/113\u001b[0m \u001b[32m━━━━━━━━━━━━━━━━━━━━\u001b[0m\u001b[37m\u001b[0m \u001b[1m1s\u001b[0m 7ms/step - accuracy: 0.8284 - loss: 0.4838\n",
            "LSTM Evaluation Results:\n",
            "loss: 0.4962608218193054\n",
            "compile_metrics: 0.8279030919075012\n",
            "\u001b[1m113/113\u001b[0m \u001b[32m━━━━━━━━━━━━━━━━━━━━\u001b[0m\u001b[37m\u001b[0m \u001b[1m1s\u001b[0m 6ms/step\n",
            "\n",
            "Additional Metrics:\n",
            "Precision: 0.7886\n",
            "Recall: 0.7992\n",
            "F1-Score: 0.7939\n",
            "\n",
            "Classification Report:\n",
            "              precision    recall  f1-score   support\n",
            "\n",
            "           0       0.86      0.85      0.85      2102\n",
            "           1       0.79      0.80      0.79      1489\n",
            "\n",
            "    accuracy                           0.83      3591\n",
            "   macro avg       0.82      0.82      0.82      3591\n",
            "weighted avg       0.83      0.83      0.83      3591\n",
            "\n"
          ]
        }
      ],
      "source": [
        "from sklearn.metrics import classification_report, f1_score, precision_score, recall_score\n",
        "\n",
        "# Step 1: Evaluate the model\n",
        "lstm_evaluation = lstm_model.evaluate(lstm_test_padded, y_test)\n",
        "print(\"LSTM Evaluation Results:\")\n",
        "for metric_name, metric_value in zip(lstm_model.metrics_names, lstm_evaluation):\n",
        "    print(f\"{metric_name}: {metric_value}\")\n",
        "\n",
        "# Step 2: Make predictions\n",
        "y_pred_probs = lstm_model.predict(lstm_test_padded)\n",
        "\n",
        "# Step 3: Fix the format mismatch\n",
        "# If y_test is one-hot encoded, convert it to binary labels\n",
        "if len(y_test.shape) > 1 and y_test.shape[1] > 1:  # Check if it's one-hot encoded\n",
        "    y_test_binary = y_test.argmax(axis=1)  # Convert one-hot labels to single-label binary\n",
        "else:\n",
        "    y_test_binary = y_test\n",
        "\n",
        "# Convert predicted probabilities to binary predictions\n",
        "y_pred_binary = (y_pred_probs > 0.5).astype(int)\n",
        "\n",
        "# If y_pred_binary is one-hot encoded, flatten it to single-label binary\n",
        "if len(y_pred_binary.shape) > 1 and y_pred_binary.shape[1] > 1:\n",
        "    y_pred_binary = y_pred_binary.argmax(axis=1)\n",
        "\n",
        "# Step 4: Calculate precision, recall, F1-score\n",
        "precision = precision_score(y_test_binary, y_pred_binary)\n",
        "recall = recall_score(y_test_binary, y_pred_binary)\n",
        "f1 = f1_score(y_test_binary, y_pred_binary)\n",
        "\n",
        "# Print the metrics\n",
        "print(\"\\nAdditional Metrics:\")\n",
        "print(f\"Precision: {precision:.4f}\")\n",
        "print(f\"Recall: {recall:.4f}\")\n",
        "print(f\"F1-Score: {f1:.4f}\")\n",
        "\n",
        "# Step 5: Print a classification report\n",
        "print(\"\\nClassification Report:\")\n",
        "print(classification_report(y_test_binary, y_pred_binary))"
      ]
    },
    {
      "cell_type": "code",
      "execution_count": null,
      "metadata": {
        "colab": {
          "base_uri": "https://localhost:8080/"
        },
        "id": "sNKqNuFZs8Sm",
        "outputId": "33dcf959-c2e9-4e8e-fe45-9298e95a3cd9"
      },
      "outputs": [
        {
          "output_type": "stream",
          "name": "stdout",
          "text": [
            "\u001b[1m113/113\u001b[0m \u001b[32m━━━━━━━━━━━━━━━━━━━━\u001b[0m\u001b[37m\u001b[0m \u001b[1m1s\u001b[0m 7ms/step - accuracy: 0.8284 - loss: 0.4838\n",
            "LSTM Evaluation Results:\n",
            "loss: 0.4962608218193054\n",
            "compile_metrics: 0.8279030919075012\n"
          ]
        }
      ],
      "source": [
        "# Evaluate LSTM\n",
        "lstm_evaluation = lstm_model.evaluate(lstm_test_padded, y_test)\n",
        "print(\"LSTM Evaluation Results:\")\n",
        "for metric_name, metric_value in zip(lstm_model.metrics_names, lstm_evaluation):\n",
        "    print(f\"{metric_name}: {metric_value}\")\n"
      ]
    },
    {
      "cell_type": "code",
      "execution_count": null,
      "metadata": {
        "colab": {
          "base_uri": "https://localhost:8080/"
        },
        "id": "m57n_YhZsQMS",
        "outputId": "6b4c9756-f1d1-4486-954b-600e7f90766c"
      },
      "outputs": [
        {
          "output_type": "stream",
          "name": "stdout",
          "text": [
            "113/113 [==============================] - 36s 283ms/step\n",
            "\u001b[1m113/113\u001b[0m \u001b[32m━━━━━━━━━━━━━━━━━━━━\u001b[0m\u001b[37m\u001b[0m \u001b[1m1s\u001b[0m 5ms/step\n"
          ]
        }
      ],
      "source": [
        "# Ensemble predictions\n",
        "arabert_predictions = model.predict({\"input_ids\": test_input_ids, \"attention_mask\": test_attention_mask}).logits\n",
        "arabert_probs = tf.nn.softmax(arabert_predictions, axis=1).numpy()\n",
        "lstm_predictions = lstm_model.predict(lstm_test_padded)\n",
        "ensemble_probs = (0.7 * arabert_probs) + (0.3 * lstm_predictions)\n"
      ]
    },
    {
      "cell_type": "code",
      "execution_count": null,
      "metadata": {
        "id": "rwvImseCvWuq"
      },
      "outputs": [],
      "source": [
        "import numpy as np\n",
        "\n",
        "ensemble_predictions = np.argmax(ensemble_probs, axis=1)"
      ]
    },
    {
      "cell_type": "code",
      "execution_count": null,
      "metadata": {
        "colab": {
          "base_uri": "https://localhost:8080/"
        },
        "id": "tp1mlg_BKrOD",
        "outputId": "c3099d54-9bd8-42c5-f404-95ac3284f012"
      },
      "outputs": [
        {
          "output_type": "stream",
          "name": "stdout",
          "text": [
            "Ensemble Accuracy: 0.8835978835978836\n"
          ]
        }
      ],
      "source": [
        "# Evaluate ensemble\n",
        "ensemble_accuracy = np.sum(ensemble_predictions == y_test) / len(y_test)\n",
        "print(f\"Ensemble Accuracy: {ensemble_accuracy}\")\n"
      ]
    },
    {
      "cell_type": "code",
      "execution_count": null,
      "metadata": {
        "colab": {
          "base_uri": "https://localhost:8080/"
        },
        "id": "tlBfDQ8At0XF",
        "outputId": "b92b511c-ac6d-4c0f-9c04-0e803ccdc98e"
      },
      "outputs": [
        {
          "output_type": "stream",
          "name": "stdout",
          "text": [
            "\n",
            "Classification Report:\n",
            "              precision    recall  f1-score   support\n",
            "\n",
            "           0       0.91      0.89      0.90      2102\n",
            "           1       0.85      0.87      0.86      1489\n",
            "\n",
            "    accuracy                           0.88      3591\n",
            "   macro avg       0.88      0.88      0.88      3591\n",
            "weighted avg       0.88      0.88      0.88      3591\n",
            "\n"
          ]
        }
      ],
      "source": [
        "# Classification report\n",
        "print(\"\\nClassification Report:\")\n",
        "print(classification_report(y_test, ensemble_predictions))"
      ]
    },
    {
      "cell_type": "code",
      "source": [
        "# Ensemble predictions\n",
        "arabert_predictions = model.predict({\"input_ids\": test_input_ids, \"attention_mask\": test_attention_mask}).logits\n",
        "arabert_probs = tf.nn.softmax(arabert_predictions, axis=1).numpy()\n",
        "lstm_predictions = lstm_model.predict(lstm_test_padded)\n",
        "ensemble_probs = (0.7 * arabert_probs) + (0.3 * lstm_predictions)\n",
        "\n",
        "import numpy as np\n",
        "from sklearn.metrics import precision_score, recall_score, f1_score\n",
        "\n",
        "ensemble_predictions = np.argmax(ensemble_probs, axis=1)\n",
        "\n",
        "# Evaluate ensemble\n",
        "ensemble_accuracy = np.sum(ensemble_predictions == y_test) / len(y_test)\n",
        "print(f\"Ensemble Accuracy: {ensemble_accuracy}\")\n",
        "\n",
        "# Additional metrics\n",
        "precision = precision_score(y_test, ensemble_predictions, average='weighted')\n",
        "recall = recall_score(y_test, ensemble_predictions, average='weighted')\n",
        "f1 = f1_score(y_test, ensemble_predictions, average='weighted')\n",
        "\n",
        "# Print the metrics\n",
        "print(\"\\nAdditional Metrics:\")\n",
        "print(f\"Precision: {precision:.4f}\")\n",
        "print(f\"Recall: {recall:.4f}\")\n",
        "print(f\"F1-Score: {f1:.4f}\")\n",
        "\n",
        "# Classification report\n",
        "from sklearn.metrics import classification_report\n",
        "\n",
        "print(\"\\nClassification Report:\")\n",
        "print(classification_report(y_test, ensemble_predictions))"
      ],
      "metadata": {
        "colab": {
          "base_uri": "https://localhost:8080/"
        },
        "id": "t2ZQzMqo67fo",
        "outputId": "d01ff93f-1ba0-4daf-8547-14e67eaba3c8"
      },
      "execution_count": null,
      "outputs": [
        {
          "output_type": "stream",
          "name": "stdout",
          "text": [
            "113/113 [==============================] - 32s 283ms/step\n",
            "\u001b[1m113/113\u001b[0m \u001b[32m━━━━━━━━━━━━━━━━━━━━\u001b[0m\u001b[37m\u001b[0m \u001b[1m0s\u001b[0m 4ms/step\n",
            "Ensemble Accuracy: 0.8835978835978836\n",
            "\n",
            "Additional Metrics:\n",
            "Precision: 0.8842\n",
            "Recall: 0.8836\n",
            "F1-Score: 0.8838\n",
            "\n",
            "Classification Report:\n",
            "              precision    recall  f1-score   support\n",
            "\n",
            "           0       0.91      0.89      0.90      2102\n",
            "           1       0.85      0.87      0.86      1489\n",
            "\n",
            "    accuracy                           0.88      3591\n",
            "   macro avg       0.88      0.88      0.88      3591\n",
            "weighted avg       0.88      0.88      0.88      3591\n",
            "\n"
          ]
        }
      ]
    },
    {
      "cell_type": "code",
      "execution_count": null,
      "metadata": {
        "colab": {
          "base_uri": "https://localhost:8080/"
        },
        "id": "sR0SAbgQ8tPG",
        "outputId": "9cef1fce-0f73-4fd6-b9f2-b8ad5def6946"
      },
      "outputs": [
        {
          "output_type": "stream",
          "name": "stdout",
          "text": [
            "1/1 [==============================] - 0s 96ms/step\n",
            "\u001b[1m1/1\u001b[0m \u001b[32m━━━━━━━━━━━━━━━━━━━━\u001b[0m\u001b[37m\u001b[0m \u001b[1m0s\u001b[0m 25ms/step\n",
            "النص يحتوي على محتوى للتنمر.\n"
          ]
        }
      ],
      "source": [
        "text_to_test = \"غثييييييثة لأبعد حد وكريهه \"\n",
        "arabert_tokenized_text = tokenizer(text_to_test, padding=\"max_length\", truncation=True, max_length=max_length, return_tensors=\"tf\")\n",
        "lstm_text_sequence = lstm_tokenizer.texts_to_sequences([text_to_test])\n",
        "lstm_text_padded = pad_sequences(lstm_text_sequence, maxlen=max_sequence_length, padding=\"post\", truncating=\"post\")\n",
        "\n",
        "# Get predictions for the new text\n",
        "arabert_test_pred = model.predict({\"input_ids\": arabert_tokenized_text[\"input_ids\"], \"attention_mask\": arabert_tokenized_text[\"attention_mask\"]})\n",
        "lstm_test_pred = lstm_model.predict(lstm_text_padded)\n",
        "\n",
        "# Calculate ensemble prediction for the new text\n",
        "arabert_test_probs = tf.nn.softmax(arabert_test_pred.logits, axis=1).numpy()\n",
        "lstm_test_probs = np.array(lstm_test_pred)\n",
        "ensemble_test_probs = (0.7 * arabert_test_probs) + (0.3 * lstm_test_probs)\n",
        "ensemble_test_pred_class = np.argmax(ensemble_test_probs, axis=1)[0]\n",
        "\n",
        "# Print the result\n",
        "if ensemble_test_pred_class == 0:\n",
        "    print(\"النص لا يحتوي على تنمر.\")\n",
        "else:\n",
        "    print(\"النص يحتوي على محتوى للتنمر.\")"
      ]
    },
    {
      "cell_type": "code",
      "execution_count": null,
      "metadata": {
        "colab": {
          "base_uri": "https://localhost:8080/"
        },
        "id": "jF8ArzFFAJTN",
        "outputId": "c97c8002-b049-4fc7-ef20-129c65405afc"
      },
      "outputs": [
        {
          "output_type": "stream",
          "name": "stdout",
          "text": [
            "1/1 [==============================] - 0s 101ms/step\n",
            "\u001b[1m1/1\u001b[0m \u001b[32m━━━━━━━━━━━━━━━━━━━━\u001b[0m\u001b[37m\u001b[0m \u001b[1m0s\u001b[0m 60ms/step\n",
            "النص لا يحتوي على تنمر.\n"
          ]
        }
      ],
      "source": [
        "text_to_test = \"  الله يهديك بس و يشغلك بطاعته\"\n",
        "arabert_tokenized_text = tokenizer(text_to_test, padding=\"max_length\", truncation=True, max_length=max_length, return_tensors=\"tf\")\n",
        "lstm_text_sequence = lstm_tokenizer.texts_to_sequences([text_to_test])\n",
        "lstm_text_padded = pad_sequences(lstm_text_sequence, maxlen=max_sequence_length, padding=\"post\", truncating=\"post\")\n",
        "\n",
        "# Get predictions for the new text\n",
        "arabert_test_pred = model.predict({\"input_ids\": arabert_tokenized_text[\"input_ids\"], \"attention_mask\": arabert_tokenized_text[\"attention_mask\"]})\n",
        "lstm_test_pred = lstm_model.predict(lstm_text_padded)\n",
        "\n",
        "# Calculate ensemble prediction for the new text\n",
        "arabert_test_probs = tf.nn.softmax(arabert_test_pred.logits, axis=1).numpy()\n",
        "lstm_test_probs = np.array(lstm_test_pred)\n",
        "ensemble_test_probs = (0.7 * arabert_test_probs) + (0.3 * lstm_test_probs)\n",
        "ensemble_test_pred_class = np.argmax(ensemble_test_probs, axis=1)[0]\n",
        "\n",
        "# Print the result\n",
        "if ensemble_test_pred_class == 0:\n",
        "    print(\"النص لا يحتوي على تنمر.\")\n",
        "else:\n",
        "    print(\"النص يحتوي على محتوى للتنمر.\")"
      ]
    },
    {
      "cell_type": "code",
      "source": [
        "# List of texts to test\n",
        "texts_to_test = [\n",
        "    \"الله يهديك بس ولا يشغلك الا بطاعته\",\n",
        "    \"أنت شخص غبي للغاية\",\n",
        "    \"كلامك جميل ومفيد\",\n",
        "    \"يا قبيح، محد يحبك\",\n",
        "    \"ما شاء الله، عمل رائع!\",\n",
        "    \"حمار انت وش ها الغباء\",\n",
        "    \"يا زينك ما شاء الله، كلامك يدخل القلب على طول.\",\n",
        "    \"أنت فاشل بكل شي، لا تتعب نفسك حتى تحاول.\",\n",
        "    \"الله يوفقك في شغلك الجديد، تستاهل كل خير.\",\n",
        "    \"ياخي أنت دايم تخلي الواحد يضحك، روحك حلوة.\",\n",
        "    \"ما شاء الله عليك، شغلك كله إبداع وذوق.\",\n",
        "    \"ربي يرزقك السعادة وراحة البال، تستاهل كل خير.\",\n",
        "    \"شكلك اليوم كأنك ما نمت من أسبوع، وش فيك؟\",\n",
        "    \"ياخي أنت غبي، كم مرة أشرح لك نفس الشي؟\",\n",
        "    \"غثييييييثة لأبعد حد وكريه\"\n",
        "]\n",
        "# Loop through each text\n",
        "for text_to_test in texts_to_test:\n",
        "    # Tokenize for AraBERT\n",
        "    arabert_tokenized_text = tokenizer(\n",
        "        text_to_test,\n",
        "        padding=\"max_length\",\n",
        "        truncation=True,\n",
        "        max_length=max_length,\n",
        "        return_tensors=\"tf\"\n",
        "    )\n",
        "\n",
        "    # Tokenize and pad for LSTM\n",
        "    lstm_text_sequence = lstm_tokenizer.texts_to_sequences([text_to_test])\n",
        "    lstm_text_padded = pad_sequences(\n",
        "        lstm_text_sequence,\n",
        "        maxlen=max_sequence_length,\n",
        "        padding=\"post\",\n",
        "        truncating=\"post\"\n",
        "    )\n",
        "\n",
        "    # Get predictions for AraBERT\n",
        "    arabert_test_pred = model.predict({\n",
        "        \"input_ids\": arabert_tokenized_text[\"input_ids\"],\n",
        "        \"attention_mask\": arabert_tokenized_text[\"attention_mask\"]\n",
        "    })\n",
        "\n",
        "    # Get predictions for LSTM\n",
        "    lstm_test_pred = lstm_model.predict(lstm_text_padded)\n",
        "\n",
        "    # Calculate ensemble prediction\n",
        "    arabert_test_probs = tf.nn.softmax(arabert_test_pred.logits, axis=1).numpy()\n",
        "    lstm_test_probs = np.array(lstm_test_pred)\n",
        "    ensemble_test_probs = (0.7 * arabert_test_probs) + (0.3 * lstm_test_probs)\n",
        "    ensemble_test_pred_class = np.argmax(ensemble_test_probs, axis=1)[0]\n",
        "\n",
        "    # Print the result for each text\n",
        "    if ensemble_test_pred_class == 0:\n",
        "        print(f\"النص: \\\"{text_to_test}\\\" -> لا يحتوي على تنمر.\")\n",
        "    else:\n",
        "        print(f\"النص: \\\"{text_to_test}\\\" -> يحتوي على محتوى للتنمر.\")"
      ],
      "metadata": {
        "colab": {
          "base_uri": "https://localhost:8080/"
        },
        "id": "64soZhEyT_Sx",
        "outputId": "db5201f9-24dd-48e0-865b-9b432e0f1ed6"
      },
      "execution_count": null,
      "outputs": [
        {
          "output_type": "stream",
          "name": "stdout",
          "text": [
            "1/1 [==============================] - 0s 82ms/step\n",
            "\u001b[1m1/1\u001b[0m \u001b[32m━━━━━━━━━━━━━━━━━━━━\u001b[0m\u001b[37m\u001b[0m \u001b[1m0s\u001b[0m 30ms/step\n",
            "النص: \"الله يهديك بس ولا يشغلك الا بطاعته\" -> لا يحتوي على تنمر.\n",
            "1/1 [==============================] - 0s 95ms/step\n",
            "\u001b[1m1/1\u001b[0m \u001b[32m━━━━━━━━━━━━━━━━━━━━\u001b[0m\u001b[37m\u001b[0m \u001b[1m0s\u001b[0m 32ms/step\n",
            "النص: \"أنت شخص غبي للغاية\" -> يحتوي على محتوى للتنمر.\n",
            "1/1 [==============================] - 0s 91ms/step\n",
            "\u001b[1m1/1\u001b[0m \u001b[32m━━━━━━━━━━━━━━━━━━━━\u001b[0m\u001b[37m\u001b[0m \u001b[1m0s\u001b[0m 31ms/step\n",
            "النص: \"كلامك جميل ومفيد\" -> لا يحتوي على تنمر.\n",
            "1/1 [==============================] - 0s 77ms/step\n",
            "\u001b[1m1/1\u001b[0m \u001b[32m━━━━━━━━━━━━━━━━━━━━\u001b[0m\u001b[37m\u001b[0m \u001b[1m0s\u001b[0m 29ms/step\n",
            "النص: \"يا قبيح، محد يحبك\" -> يحتوي على محتوى للتنمر.\n",
            "1/1 [==============================] - 0s 75ms/step\n",
            "\u001b[1m1/1\u001b[0m \u001b[32m━━━━━━━━━━━━━━━━━━━━\u001b[0m\u001b[37m\u001b[0m \u001b[1m0s\u001b[0m 32ms/step\n",
            "النص: \"ما شاء الله، عمل رائع!\" -> لا يحتوي على تنمر.\n",
            "1/1 [==============================] - 0s 52ms/step\n",
            "\u001b[1m1/1\u001b[0m \u001b[32m━━━━━━━━━━━━━━━━━━━━\u001b[0m\u001b[37m\u001b[0m \u001b[1m0s\u001b[0m 23ms/step\n",
            "النص: \"حمار انت وش ها الغباء\" -> يحتوي على محتوى للتنمر.\n",
            "1/1 [==============================] - 0s 54ms/step\n",
            "\u001b[1m1/1\u001b[0m \u001b[32m━━━━━━━━━━━━━━━━━━━━\u001b[0m\u001b[37m\u001b[0m \u001b[1m0s\u001b[0m 19ms/step\n",
            "النص: \"يا زينك ما شاء الله، كلامك يدخل القلب على طول.\" -> لا يحتوي على تنمر.\n",
            "1/1 [==============================] - 0s 69ms/step\n",
            "\u001b[1m1/1\u001b[0m \u001b[32m━━━━━━━━━━━━━━━━━━━━\u001b[0m\u001b[37m\u001b[0m \u001b[1m0s\u001b[0m 23ms/step\n",
            "النص: \"أنت فاشل بكل شي، لا تتعب نفسك حتى تحاول.\" -> يحتوي على محتوى للتنمر.\n",
            "1/1 [==============================] - 0s 81ms/step\n",
            "\u001b[1m1/1\u001b[0m \u001b[32m━━━━━━━━━━━━━━━━━━━━\u001b[0m\u001b[37m\u001b[0m \u001b[1m0s\u001b[0m 32ms/step\n",
            "النص: \"الله يوفقك في شغلك الجديد، تستاهل كل خير.\" -> لا يحتوي على تنمر.\n",
            "1/1 [==============================] - 0s 71ms/step\n",
            "\u001b[1m1/1\u001b[0m \u001b[32m━━━━━━━━━━━━━━━━━━━━\u001b[0m\u001b[37m\u001b[0m \u001b[1m0s\u001b[0m 30ms/step\n",
            "النص: \"ياخي أنت دايم تخلي الواحد يضحك، روحك حلوة.\" -> لا يحتوي على تنمر.\n",
            "1/1 [==============================] - 0s 76ms/step\n",
            "\u001b[1m1/1\u001b[0m \u001b[32m━━━━━━━━━━━━━━━━━━━━\u001b[0m\u001b[37m\u001b[0m \u001b[1m0s\u001b[0m 34ms/step\n",
            "النص: \"ما شاء الله عليك، شغلك كله إبداع وذوق.\" -> لا يحتوي على تنمر.\n",
            "1/1 [==============================] - 0s 80ms/step\n",
            "\u001b[1m1/1\u001b[0m \u001b[32m━━━━━━━━━━━━━━━━━━━━\u001b[0m\u001b[37m\u001b[0m \u001b[1m0s\u001b[0m 37ms/step\n",
            "النص: \"ربي يرزقك السعادة وراحة البال، تستاهل كل خير.\" -> لا يحتوي على تنمر.\n",
            "1/1 [==============================] - 0s 73ms/step\n",
            "\u001b[1m1/1\u001b[0m \u001b[32m━━━━━━━━━━━━━━━━━━━━\u001b[0m\u001b[37m\u001b[0m \u001b[1m0s\u001b[0m 28ms/step\n",
            "النص: \"شكلك اليوم كأنك ما نمت من أسبوع، وش فيك؟\" -> لا يحتوي على تنمر.\n",
            "1/1 [==============================] - 0s 73ms/step\n",
            "\u001b[1m1/1\u001b[0m \u001b[32m━━━━━━━━━━━━━━━━━━━━\u001b[0m\u001b[37m\u001b[0m \u001b[1m0s\u001b[0m 27ms/step\n",
            "النص: \"ياخي أنت غبي، كم مرة أشرح لك نفس الشي؟\" -> يحتوي على محتوى للتنمر.\n",
            "1/1 [==============================] - 0s 82ms/step\n",
            "\u001b[1m1/1\u001b[0m \u001b[32m━━━━━━━━━━━━━━━━━━━━\u001b[0m\u001b[37m\u001b[0m \u001b[1m0s\u001b[0m 29ms/step\n",
            "النص: \"غثييييييثة لأبعد حد وكريه\" -> يحتوي على محتوى للتنمر.\n"
          ]
        }
      ]
    },
    {
      "cell_type": "code",
      "source": [
        "import matplotlib.pyplot as plt\n",
        "import numpy as np\n",
        "\n",
        "# Define the labels and values for the bar graph\n",
        "approaches = ['LSTM', 'BLSTM', 'AraBERT+LSTM']\n",
        "accuracies = [0.72, 0.82, 0.88]\n",
        "f1_scores = [0.72, 0.88, 0.88]\n",
        "precisions = [0.91, 0.86, 0.88]\n",
        "recalls = [0.60, 0.91, 0.88]\n",
        "\n",
        "# Set the width of the bars\n",
        "bar_width = 0.2\n",
        "index = np.arange(len(approaches))\n",
        "\n",
        "# Create subplots for each metric\n",
        "fig, ax = plt.subplots(figsize=(8, 6))\n",
        "bar1 = ax.bar(index, accuracies, bar_width, label='Accuracy', color='#40a7e1')\n",
        "bar2 = ax.bar(index + bar_width, f1_scores, bar_width, label='F1-Score', color='#43d1a1')\n",
        "bar3 = ax.bar(index + 2 * bar_width, precisions, bar_width, label='Precision', color='#a8d138')\n",
        "bar4 = ax.bar(index + 3 * bar_width, recalls, bar_width, label='Recall', color='#40bedf')\n",
        "\n",
        "# Add labels, title, and legend\n",
        "ax.set_xlabel('Baselines')\n",
        "ax.set_ylabel('Scores')\n",
        "ax.set_title('Performance Comparison')\n",
        "ax.set_xticks(index + 1.5 * bar_width)\n",
        "ax.set_xticklabels(approaches)\n",
        "ax.legend()\n",
        "\n",
        "# Display the graph\n",
        "plt.ylim(0, 1)  # Set the y-axis limits from 0 to 1 for metrics\n",
        "plt.tight_layout()\n",
        "plt.show()\n"
      ],
      "metadata": {
        "colab": {
          "base_uri": "https://localhost:8080/",
          "height": 607
        },
        "id": "PjA8nSjZBena",
        "outputId": "bd8d9f4f-90f6-4ac6-8a33-1e9d617461da"
      },
      "execution_count": null,
      "outputs": [
        {
          "output_type": "display_data",
          "data": {
            "text/plain": [
              "<Figure size 800x600 with 1 Axes>"
            ],
            "image/png": "[encoded data removed]"
          },
          "metadata": {}
        }
      ]
    },
    {
      "cell_type": "code",
      "source": [
        "import matplotlib.pyplot as plt\n",
        "import numpy as np\n",
        "\n",
        "# Define the metrics and their values for each approach\n",
        "metrics = ['Accuracy', 'Precision', 'Recall', 'F1-Score']\n",
        "ensemble_metrics = [ensemble_accuracy, precision, recall, f1]\n",
        "#baseline_metrics = [baseline_accuracy, baseline_precision, baseline_recall, baseline_f1]\n",
        "\n",
        "# Set the width of the bars\n",
        "bar_width = 0.35\n",
        "index = np.arange(len(metrics))\n",
        "\n",
        "# Create the grouped bar chart\n",
        "fig, ax = plt.subplots()\n",
        "bar1 = ax.bar(index - bar_width/2, ensemble_metrics, bar_width, label='Ensemble', color='#38B6FF')\n",
        "#bar2 = ax.bar(index + bar_width/2, baseline_metrics, bar_width, label='Baseline', color='lightcoral')\n",
        "\n",
        "# Add labels, title, and legend\n",
        "ax.set_xlabel('Metrics')\n",
        "ax.set_ylabel('Scores')\n",
        "ax.set_title('Performance Metrics Comparison: Ensemble')\n",
        "ax.set_xticks(index)\n",
        "ax.set_xticklabels(metrics)\n",
        "ax.legend()\n",
        "\n",
        "# Display the grouped bar chart\n",
        "plt.ylim(0, 1)  # Set the y-axis limits from 0 to 1 for accuracy\n",
        "plt.tight_layout()\n",
        "plt.show()"
      ],
      "metadata": {
        "colab": {
          "base_uri": "https://localhost:8080/",
          "height": 487
        },
        "id": "UZkCh3Htb8pi",
        "outputId": "bb04ebda-83d4-45ea-f01b-f639a5cf7b12"
      },
      "execution_count": null,
      "outputs": [
        {
          "output_type": "display_data",
          "data": {
            "text/plain": [
              "<Figure size 640x480 with 1 Axes>"
            ],
            "image/png": "[encoded data removed]"
          },
          "metadata": {}
        }
      ]
    }
  ],
  "metadata": {
    "accelerator": "GPU",
    "colab": {
      "gpuType": "T4",
      "provenance": [],
      "include_colab_link": true
    },
    "kernelspec": {
      "display_name": "Python 3",
      "name": "python3"
    },
    "language_info": {
      "name": "python"
    },
    "widgets": {
      "application/vnd.jupyter.widget-state+json": {
        "fd645abd6f704280b27bbf0bce36778c": {
          "model_module": "@jupyter-widgets/controls",
          "model_name": "HBoxModel",
          "model_module_version": "1.5.0",
          "state": {
            "_dom_classes": [],
            "_model_module": "@jupyter-widgets/controls",
            "_model_module_version": "1.5.0",
            "_model_name": "HBoxModel",
            "_view_count": null,
            "_view_module": "@jupyter-widgets/controls",
            "_view_module_version": "1.5.0",
            "_view_name": "HBoxView",
            "box_style": "",
            "children": [
              "IPY_MODEL_324eb458522047d090f4339af973cafa",
              "IPY_MODEL_747bf7a85f2d419a855dbf47c3cf59c3",
              "IPY_MODEL_9bcd3828f47f439685dd25cd042d3b51"
            ],
            "layout": "IPY_MODEL_9cacbabb597f431795b1f07a963180e5"
          }
        },
        "324eb458522047d090f4339af973cafa": {
          "model_module": "@jupyter-widgets/controls",
          "model_name": "HTMLModel",
          "model_module_version": "1.5.0",
          "state": {
            "_dom_classes": [],
            "_model_module": "@jupyter-widgets/controls",
            "_model_module_version": "1.5.0",
            "_model_name": "HTMLModel",
            "_view_count": null,
            "_view_module": "@jupyter-widgets/controls",
            "_view_module_version": "1.5.0",
            "_view_name": "HTMLView",
            "description": "",
            "description_tooltip": null,
            "layout": "IPY_MODEL_e2889f6a8a7f40acb2718ea5c6dbaf73",
            "placeholder": "​",
            "style": "IPY_MODEL_54004327b6eb44e89e58c85d2e37dc70",
            "value": "tokenizer_config.json: 100%"
          }
        },
        "747bf7a85f2d419a855dbf47c3cf59c3": {
          "model_module": "@jupyter-widgets/controls",
          "model_name": "FloatProgressModel",
          "model_module_version": "1.5.0",
          "state": {
            "_dom_classes": [],
            "_model_module": "@jupyter-widgets/controls",
            "_model_module_version": "1.5.0",
            "_model_name": "FloatProgressModel",
            "_view_count": null,
            "_view_module": "@jupyter-widgets/controls",
            "_view_module_version": "1.5.0",
            "_view_name": "ProgressView",
            "bar_style": "success",
            "description": "",
            "description_tooltip": null,
            "layout": "IPY_MODEL_853c460bf9474b1995caec6ed4ccf2da",
            "max": 611,
            "min": 0,
            "orientation": "horizontal",
            "style": "IPY_MODEL_c6f84d7965814781a3f8a206116c57e3",
            "value": 611
          }
        },
        "9bcd3828f47f439685dd25cd042d3b51": {
          "model_module": "@jupyter-widgets/controls",
          "model_name": "HTMLModel",
          "model_module_version": "1.5.0",
          "state": {
            "_dom_classes": [],
            "_model_module": "@jupyter-widgets/controls",
            "_model_module_version": "1.5.0",
            "_model_name": "HTMLModel",
            "_view_count": null,
            "_view_module": "@jupyter-widgets/controls",
            "_view_module_version": "1.5.0",
            "_view_name": "HTMLView",
            "description": "",
            "description_tooltip": null,
            "layout": "IPY_MODEL_197a992a119b44889039a9ec3a4f5afa",
            "placeholder": "​",
            "style": "IPY_MODEL_da3aa06ad5174dca80275609eb3bca7a",
            "value": " 611/611 [00:00&lt;00:00, 49.0kB/s]"
          }
        },
        "9cacbabb597f431795b1f07a963180e5": {
          "model_module": "@jupyter-widgets/base",
          "model_name": "LayoutModel",
          "model_module_version": "1.2.0",
          "state": {
            "_model_module": "@jupyter-widgets/base",
            "_model_module_version": "1.2.0",
            "_model_name": "LayoutModel",
            "_view_count": null,
            "_view_module": "@jupyter-widgets/base",
            "_view_module_version": "1.2.0",
            "_view_name": "LayoutView",
            "align_content": null,
            "align_items": null,
            "align_self": null,
            "border": null,
            "bottom": null,
            "display": null,
            "flex": null,
            "flex_flow": null,
            "grid_area": null,
            "grid_auto_columns": null,
            "grid_auto_flow": null,
            "grid_auto_rows": null,
            "grid_column": null,
            "grid_gap": null,
            "grid_row": null,
            "grid_template_areas": null,
            "grid_template_columns": null,
            "grid_template_rows": null,
            "height": null,
            "justify_content": null,
            "justify_items": null,
            "left": null,
            "margin": null,
            "max_height": null,
            "max_width": null,
            "min_height": null,
            "min_width": null,
            "object_fit": null,
            "object_position": null,
            "order": null,
            "overflow": null,
            "overflow_x": null,
            "overflow_y": null,
            "padding": null,
            "right": null,
            "top": null,
            "visibility": null,
            "width": null
          }
        },
        "e2889f6a8a7f40acb2718ea5c6dbaf73": {
          "model_module": "@jupyter-widgets/base",
          "model_name": "LayoutModel",
          "model_module_version": "1.2.0",
          "state": {
            "_model_module": "@jupyter-widgets/base",
            "_model_module_version": "1.2.0",
            "_model_name": "LayoutModel",
            "_view_count": null,
            "_view_module": "@jupyter-widgets/base",
            "_view_module_version": "1.2.0",
            "_view_name": "LayoutView",
            "align_content": null,
            "align_items": null,
            "align_self": null,
            "border": null,
            "bottom": null,
            "display": null,
            "flex": null,
            "flex_flow": null,
            "grid_area": null,
            "grid_auto_columns": null,
            "grid_auto_flow": null,
            "grid_auto_rows": null,
            "grid_column": null,
            "grid_gap": null,
            "grid_row": null,
            "grid_template_areas": null,
            "grid_template_columns": null,
            "grid_template_rows": null,
            "height": null,
            "justify_content": null,
            "justify_items": null,
            "left": null,
            "margin": null,
            "max_height": null,
            "max_width": null,
            "min_height": null,
            "min_width": null,
            "object_fit": null,
            "object_position": null,
            "order": null,
            "overflow": null,
            "overflow_x": null,
            "overflow_y": null,
            "padding": null,
            "right": null,
            "top": null,
            "visibility": null,
            "width": null
          }
        },
        "54004327b6eb44e89e58c85d2e37dc70": {
          "model_module": "@jupyter-widgets/controls",
          "model_name": "DescriptionStyleModel",
          "model_module_version": "1.5.0",
          "state": {
            "_model_module": "@jupyter-widgets/controls",
            "_model_module_version": "1.5.0",
            "_model_name": "DescriptionStyleModel",
            "_view_count": null,
            "_view_module": "@jupyter-widgets/base",
            "_view_module_version": "1.2.0",
            "_view_name": "StyleView",
            "description_width": ""
          }
        },
        "853c460bf9474b1995caec6ed4ccf2da": {
          "model_module": "@jupyter-widgets/base",
          "model_name": "LayoutModel",
          "model_module_version": "1.2.0",
          "state": {
            "_model_module": "@jupyter-widgets/base",
            "_model_module_version": "1.2.0",
            "_model_name": "LayoutModel",
            "_view_count": null,
            "_view_module": "@jupyter-widgets/base",
            "_view_module_version": "1.2.0",
            "_view_name": "LayoutView",
            "align_content": null,
            "align_items": null,
            "align_self": null,
            "border": null,
            "bottom": null,
            "display": null,
            "flex": null,
            "flex_flow": null,
            "grid_area": null,
            "grid_auto_columns": null,
            "grid_auto_flow": null,
            "grid_auto_rows": null,
            "grid_column": null,
            "grid_gap": null,
            "grid_row": null,
            "grid_template_areas": null,
            "grid_template_columns": null,
            "grid_template_rows": null,
            "height": null,
            "justify_content": null,
            "justify_items": null,
            "left": null,
            "margin": null,
            "max_height": null,
            "max_width": null,
            "min_height": null,
            "min_width": null,
            "object_fit": null,
            "object_position": null,
            "order": null,
            "overflow": null,
            "overflow_x": null,
            "overflow_y": null,
            "padding": null,
            "right": null,
            "top": null,
            "visibility": null,
            "width": null
          }
        },
        "c6f84d7965814781a3f8a206116c57e3": {
          "model_module": "@jupyter-widgets/controls",
          "model_name": "ProgressStyleModel",
          "model_module_version": "1.5.0",
          "state": {
            "_model_module": "@jupyter-widgets/controls",
            "_model_module_version": "1.5.0",
            "_model_name": "ProgressStyleModel",
            "_view_count": null,
            "_view_module": "@jupyter-widgets/base",
            "_view_module_version": "1.2.0",
            "_view_name": "StyleView",
            "bar_color": null,
            "description_width": ""
          }
        },
        "197a992a119b44889039a9ec3a4f5afa": {
          "model_module": "@jupyter-widgets/base",
          "model_name": "LayoutModel",
          "model_module_version": "1.2.0",
          "state": {
            "_model_module": "@jupyter-widgets/base",
            "_model_module_version": "1.2.0",
            "_model_name": "LayoutModel",
            "_view_count": null,
            "_view_module": "@jupyter-widgets/base",
            "_view_module_version": "1.2.0",
            "_view_name": "LayoutView",
            "align_content": null,
            "align_items": null,
            "align_self": null,
            "border": null,
            "bottom": null,
            "display": null,
            "flex": null,
            "flex_flow": null,
            "grid_area": null,
            "grid_auto_columns": null,
            "grid_auto_flow": null,
            "grid_auto_rows": null,
            "grid_column": null,
            "grid_gap": null,
            "grid_row": null,
            "grid_template_areas": null,
            "grid_template_columns": null,
            "grid_template_rows": null,
            "height": null,
            "justify_content": null,
            "justify_items": null,
            "left": null,
            "margin": null,
            "max_height": null,
            "max_width": null,
            "min_height": null,
            "min_width": null,
            "object_fit": null,
            "object_position": null,
            "order": null,
            "overflow": null,
            "overflow_x": null,
            "overflow_y": null,
            "padding": null,
            "right": null,
            "top": null,
            "visibility": null,
            "width": null
          }
        },
        "da3aa06ad5174dca80275609eb3bca7a": {
          "model_module": "@jupyter-widgets/controls",
          "model_name": "DescriptionStyleModel",
          "model_module_version": "1.5.0",
          "state": {
            "_model_module": "@jupyter-widgets/controls",
            "_model_module_version": "1.5.0",
            "_model_name": "DescriptionStyleModel",
            "_view_count": null,
            "_view_module": "@jupyter-widgets/base",
            "_view_module_version": "1.2.0",
            "_view_name": "StyleView",
            "description_width": ""
          }
        },
        "fb0005fda99d4c419de6b8a88ebf04ec": {
          "model_module": "@jupyter-widgets/controls",
          "model_name": "HBoxModel",
          "model_module_version": "1.5.0",
          "state": {
            "_dom_classes": [],
            "_model_module": "@jupyter-widgets/controls",
            "_model_module_version": "1.5.0",
            "_model_name": "HBoxModel",
            "_view_count": null,
            "_view_module": "@jupyter-widgets/controls",
            "_view_module_version": "1.5.0",
            "_view_name": "HBoxView",
            "box_style": "",
            "children": [
              "IPY_MODEL_d419d0118b654e9893046d5236939c9a",
              "IPY_MODEL_89828101c8094bb0a67e81c24ffb32cc",
              "IPY_MODEL_96b765bf06ce4d9d94d444af57f08514"
            ],
            "layout": "IPY_MODEL_c1a42bf83bae4d13a81051306053c781"
          }
        },
        "d419d0118b654e9893046d5236939c9a": {
          "model_module": "@jupyter-widgets/controls",
          "model_name": "HTMLModel",
          "model_module_version": "1.5.0",
          "state": {
            "_dom_classes": [],
            "_model_module": "@jupyter-widgets/controls",
            "_model_module_version": "1.5.0",
            "_model_name": "HTMLModel",
            "_view_count": null,
            "_view_module": "@jupyter-widgets/controls",
            "_view_module_version": "1.5.0",
            "_view_name": "HTMLView",
            "description": "",
            "description_tooltip": null,
            "layout": "IPY_MODEL_6b0c9d6fae504fa8a2df921d4f0ea637",
            "placeholder": "​",
            "style": "IPY_MODEL_57ad0958b2094d08966b0bd67329e496",
            "value": "config.json: 100%"
          }
        },
        "89828101c8094bb0a67e81c24ffb32cc": {
          "model_module": "@jupyter-widgets/controls",
          "model_name": "FloatProgressModel",
          "model_module_version": "1.5.0",
          "state": {
            "_dom_classes": [],
            "_model_module": "@jupyter-widgets/controls",
            "_model_module_version": "1.5.0",
            "_model_name": "FloatProgressModel",
            "_view_count": null,
            "_view_module": "@jupyter-widgets/controls",
            "_view_module_version": "1.5.0",
            "_view_name": "ProgressView",
            "bar_style": "success",
            "description": "",
            "description_tooltip": null,
            "layout": "IPY_MODEL_223c53fa0d37488f9ef4c6f7aa8da44a",
            "max": 384,
            "min": 0,
            "orientation": "horizontal",
            "style": "IPY_MODEL_814e84a2a27f42ea8c8f57ba1455b39f",
            "value": 384
          }
        },
        "96b765bf06ce4d9d94d444af57f08514": {
          "model_module": "@jupyter-widgets/controls",
          "model_name": "HTMLModel",
          "model_module_version": "1.5.0",
          "state": {
            "_dom_classes": [],
            "_model_module": "@jupyter-widgets/controls",
            "_model_module_version": "1.5.0",
            "_model_name": "HTMLModel",
            "_view_count": null,
            "_view_module": "@jupyter-widgets/controls",
            "_view_module_version": "1.5.0",
            "_view_name": "HTMLView",
            "description": "",
            "description_tooltip": null,
            "layout": "IPY_MODEL_674c92ff749c41098fffe838ebc814d6",
            "placeholder": "​",
            "style": "IPY_MODEL_4792e8dee693438194d90f9736cc5998",
            "value": " 384/384 [00:00&lt;00:00, 16.7kB/s]"
          }
        },
        "c1a42bf83bae4d13a81051306053c781": {
          "model_module": "@jupyter-widgets/base",
          "model_name": "LayoutModel",
          "model_module_version": "1.2.0",
          "state": {
            "_model_module": "@jupyter-widgets/base",
            "_model_module_version": "1.2.0",
            "_model_name": "LayoutModel",
            "_view_count": null,
            "_view_module": "@jupyter-widgets/base",
            "_view_module_version": "1.2.0",
            "_view_name": "LayoutView",
            "align_content": null,
            "align_items": null,
            "align_self": null,
            "border": null,
            "bottom": null,
            "display": null,
            "flex": null,
            "flex_flow": null,
            "grid_area": null,
            "grid_auto_columns": null,
            "grid_auto_flow": null,
            "grid_auto_rows": null,
            "grid_column": null,
            "grid_gap": null,
            "grid_row": null,
            "grid_template_areas": null,
            "grid_template_columns": null,
            "grid_template_rows": null,
            "height": null,
            "justify_content": null,
            "justify_items": null,
            "left": null,
            "margin": null,
            "max_height": null,
            "max_width": null,
            "min_height": null,
            "min_width": null,
            "object_fit": null,
            "object_position": null,
            "order": null,
            "overflow": null,
            "overflow_x": null,
            "overflow_y": null,
            "padding": null,
            "right": null,
            "top": null,
            "visibility": null,
            "width": null
          }
        },
        "6b0c9d6fae504fa8a2df921d4f0ea637": {
          "model_module": "@jupyter-widgets/base",
          "model_name": "LayoutModel",
          "model_module_version": "1.2.0",
          "state": {
            "_model_module": "@jupyter-widgets/base",
            "_model_module_version": "1.2.0",
            "_model_name": "LayoutModel",
            "_view_count": null,
            "_view_module": "@jupyter-widgets/base",
            "_view_module_version": "1.2.0",
            "_view_name": "LayoutView",
            "align_content": null,
            "align_items": null,
            "align_self": null,
            "border": null,
            "bottom": null,
            "display": null,
            "flex": null,
            "flex_flow": null,
            "grid_area": null,
            "grid_auto_columns": null,
            "grid_auto_flow": null,
            "grid_auto_rows": null,
            "grid_column": null,
            "grid_gap": null,
            "grid_row": null,
            "grid_template_areas": null,
            "grid_template_columns": null,
            "grid_template_rows": null,
            "height": null,
            "justify_content": null,
            "justify_items": null,
            "left": null,
            "margin": null,
            "max_height": null,
            "max_width": null,
            "min_height": null,
            "min_width": null,
            "object_fit": null,
            "object_position": null,
            "order": null,
            "overflow": null,
            "overflow_x": null,
            "overflow_y": null,
            "padding": null,
            "right": null,
            "top": null,
            "visibility": null,
            "width": null
          }
        },
        "57ad0958b2094d08966b0bd67329e496": {
          "model_module": "@jupyter-widgets/controls",
          "model_name": "DescriptionStyleModel",
          "model_module_version": "1.5.0",
          "state": {
            "_model_module": "@jupyter-widgets/controls",
            "_model_module_version": "1.5.0",
            "_model_name": "DescriptionStyleModel",
            "_view_count": null,
            "_view_module": "@jupyter-widgets/base",
            "_view_module_version": "1.2.0",
            "_view_name": "StyleView",
            "description_width": ""
          }
        },
        "223c53fa0d37488f9ef4c6f7aa8da44a": {
          "model_module": "@jupyter-widgets/base",
          "model_name": "LayoutModel",
          "model_module_version": "1.2.0",
          "state": {
            "_model_module": "@jupyter-widgets/base",
            "_model_module_version": "1.2.0",
            "_model_name": "LayoutModel",
            "_view_count": null,
            "_view_module": "@jupyter-widgets/base",
            "_view_module_version": "1.2.0",
            "_view_name": "LayoutView",
            "align_content": null,
            "align_items": null,
            "align_self": null,
            "border": null,
            "bottom": null,
            "display": null,
            "flex": null,
            "flex_flow": null,
            "grid_area": null,
            "grid_auto_columns": null,
            "grid_auto_flow": null,
            "grid_auto_rows": null,
            "grid_column": null,
            "grid_gap": null,
            "grid_row": null,
            "grid_template_areas": null,
            "grid_template_columns": null,
            "grid_template_rows": null,
            "height": null,
            "justify_content": null,
            "justify_items": null,
            "left": null,
            "margin": null,
            "max_height": null,
            "max_width": null,
            "min_height": null,
            "min_width": null,
            "object_fit": null,
            "object_position": null,
            "order": null,
            "overflow": null,
            "overflow_x": null,
            "overflow_y": null,
            "padding": null,
            "right": null,
            "top": null,
            "visibility": null,
            "width": null
          }
        },
        "814e84a2a27f42ea8c8f57ba1455b39f": {
          "model_module": "@jupyter-widgets/controls",
          "model_name": "ProgressStyleModel",
          "model_module_version": "1.5.0",
          "state": {
            "_model_module": "@jupyter-widgets/controls",
            "_model_module_version": "1.5.0",
            "_model_name": "ProgressStyleModel",
            "_view_count": null,
            "_view_module": "@jupyter-widgets/base",
            "_view_module_version": "1.2.0",
            "_view_name": "StyleView",
            "bar_color": null,
            "description_width": ""
          }
        },
        "674c92ff749c41098fffe838ebc814d6": {
          "model_module": "@jupyter-widgets/base",
          "model_name": "LayoutModel",
          "model_module_version": "1.2.0",
          "state": {
            "_model_module": "@jupyter-widgets/base",
            "_model_module_version": "1.2.0",
            "_model_name": "LayoutModel",
            "_view_count": null,
            "_view_module": "@jupyter-widgets/base",
            "_view_module_version": "1.2.0",
            "_view_name": "LayoutView",
            "align_content": null,
            "align_items": null,
            "align_self": null,
            "border": null,
            "bottom": null,
            "display": null,
            "flex": null,
            "flex_flow": null,
            "grid_area": null,
            "grid_auto_columns": null,
            "grid_auto_flow": null,
            "grid_auto_rows": null,
            "grid_column": null,
            "grid_gap": null,
            "grid_row": null,
            "grid_template_areas": null,
            "grid_template_columns": null,
            "grid_template_rows": null,
            "height": null,
            "justify_content": null,
            "justify_items": null,
            "left": null,
            "margin": null,
            "max_height": null,
            "max_width": null,
            "min_height": null,
            "min_width": null,
            "object_fit": null,
            "object_position": null,
            "order": null,
            "overflow": null,
            "overflow_x": null,
            "overflow_y": null,
            "padding": null,
            "right": null,
            "top": null,
            "visibility": null,
            "width": null
          }
        },
        "4792e8dee693438194d90f9736cc5998": {
          "model_module": "@jupyter-widgets/controls",
          "model_name": "DescriptionStyleModel",
          "model_module_version": "1.5.0",
          "state": {
            "_model_module": "@jupyter-widgets/controls",
            "_model_module_version": "1.5.0",
            "_model_name": "DescriptionStyleModel",
            "_view_count": null,
            "_view_module": "@jupyter-widgets/base",
            "_view_module_version": "1.2.0",
            "_view_name": "StyleView",
            "description_width": ""
          }
        },
        "0dff5ad41bda45b9adc61b981fcc4a79": {
          "model_module": "@jupyter-widgets/controls",
          "model_name": "HBoxModel",
          "model_module_version": "1.5.0",
          "state": {
            "_dom_classes": [],
            "_model_module": "@jupyter-widgets/controls",
            "_model_module_version": "1.5.0",
            "_model_name": "HBoxModel",
            "_view_count": null,
            "_view_module": "@jupyter-widgets/controls",
            "_view_module_version": "1.5.0",
            "_view_name": "HBoxView",
            "box_style": "",
            "children": [
              "IPY_MODEL_8a53976210a94deaa3eae9e6687be762",
              "IPY_MODEL_f6ec665888b0472abb87c5b9d1ba10fd",
              "IPY_MODEL_26971978b1b8407f9a0905451cee0c33"
            ],
            "layout": "IPY_MODEL_46027c88e6f04a9f8607661145e446f8"
          }
        },
        "8a53976210a94deaa3eae9e6687be762": {
          "model_module": "@jupyter-widgets/controls",
          "model_name": "HTMLModel",
          "model_module_version": "1.5.0",
          "state": {
            "_dom_classes": [],
            "_model_module": "@jupyter-widgets/controls",
            "_model_module_version": "1.5.0",
            "_model_name": "HTMLModel",
            "_view_count": null,
            "_view_module": "@jupyter-widgets/controls",
            "_view_module_version": "1.5.0",
            "_view_name": "HTMLView",
            "description": "",
            "description_tooltip": null,
            "layout": "IPY_MODEL_e37b1a1f37114a47b19e9772162fcb75",
            "placeholder": "​",
            "style": "IPY_MODEL_97376832cc954b359ceae1a100e6a9b6",
            "value": "vocab.txt: 100%"
          }
        },
        "f6ec665888b0472abb87c5b9d1ba10fd": {
          "model_module": "@jupyter-widgets/controls",
          "model_name": "FloatProgressModel",
          "model_module_version": "1.5.0",
          "state": {
            "_dom_classes": [],
            "_model_module": "@jupyter-widgets/controls",
            "_model_module_version": "1.5.0",
            "_model_name": "FloatProgressModel",
            "_view_count": null,
            "_view_module": "@jupyter-widgets/controls",
            "_view_module_version": "1.5.0",
            "_view_name": "ProgressView",
            "bar_style": "success",
            "description": "",
            "description_tooltip": null,
            "layout": "IPY_MODEL_54b1e517ea5a4c3c9dfc97dd963a154e",
            "max": 719993,
            "min": 0,
            "orientation": "horizontal",
            "style": "IPY_MODEL_fc9ebc0263e34623abda499ac08ec90a",
            "value": 719993
          }
        },
        "26971978b1b8407f9a0905451cee0c33": {
          "model_module": "@jupyter-widgets/controls",
          "model_name": "HTMLModel",
          "model_module_version": "1.5.0",
          "state": {
            "_dom_classes": [],
            "_model_module": "@jupyter-widgets/controls",
            "_model_module_version": "1.5.0",
            "_model_name": "HTMLModel",
            "_view_count": null,
            "_view_module": "@jupyter-widgets/controls",
            "_view_module_version": "1.5.0",
            "_view_name": "HTMLView",
            "description": "",
            "description_tooltip": null,
            "layout": "IPY_MODEL_eba8d2579a254e2ab0d21fa561534ee7",
            "placeholder": "​",
            "style": "IPY_MODEL_fcef05df9f8d4a789aef0cef9ab5a390",
            "value": " 720k/720k [00:01&lt;00:00, 569kB/s]"
          }
        },
        "46027c88e6f04a9f8607661145e446f8": {
          "model_module": "@jupyter-widgets/base",
          "model_name": "LayoutModel",
          "model_module_version": "1.2.0",
          "state": {
            "_model_module": "@jupyter-widgets/base",
            "_model_module_version": "1.2.0",
            "_model_name": "LayoutModel",
            "_view_count": null,
            "_view_module": "@jupyter-widgets/base",
            "_view_module_version": "1.2.0",
            "_view_name": "LayoutView",
            "align_content": null,
            "align_items": null,
            "align_self": null,
            "border": null,
            "bottom": null,
            "display": null,
            "flex": null,
            "flex_flow": null,
            "grid_area": null,
            "grid_auto_columns": null,
            "grid_auto_flow": null,
            "grid_auto_rows": null,
            "grid_column": null,
            "grid_gap": null,
            "grid_row": null,
            "grid_template_areas": null,
            "grid_template_columns": null,
            "grid_template_rows": null,
            "height": null,
            "justify_content": null,
            "justify_items": null,
            "left": null,
            "margin": null,
            "max_height": null,
            "max_width": null,
            "min_height": null,
            "min_width": null,
            "object_fit": null,
            "object_position": null,
            "order": null,
            "overflow": null,
            "overflow_x": null,
            "overflow_y": null,
            "padding": null,
            "right": null,
            "top": null,
            "visibility": null,
            "width": null
          }
        },
        "e37b1a1f37114a47b19e9772162fcb75": {
          "model_module": "@jupyter-widgets/base",
          "model_name": "LayoutModel",
          "model_module_version": "1.2.0",
          "state": {
            "_model_module": "@jupyter-widgets/base",
            "_model_module_version": "1.2.0",
            "_model_name": "LayoutModel",
            "_view_count": null,
            "_view_module": "@jupyter-widgets/base",
            "_view_module_version": "1.2.0",
            "_view_name": "LayoutView",
            "align_content": null,
            "align_items": null,
            "align_self": null,
            "border": null,
            "bottom": null,
            "display": null,
            "flex": null,
            "flex_flow": null,
            "grid_area": null,
            "grid_auto_columns": null,
            "grid_auto_flow": null,
            "grid_auto_rows": null,
            "grid_column": null,
            "grid_gap": null,
            "grid_row": null,
            "grid_template_areas": null,
            "grid_template_columns": null,
            "grid_template_rows": null,
            "height": null,
            "justify_content": null,
            "justify_items": null,
            "left": null,
            "margin": null,
            "max_height": null,
            "max_width": null,
            "min_height": null,
            "min_width": null,
            "object_fit": null,
            "object_position": null,
            "order": null,
            "overflow": null,
            "overflow_x": null,
            "overflow_y": null,
            "padding": null,
            "right": null,
            "top": null,
            "visibility": null,
            "width": null
          }
        },
        "97376832cc954b359ceae1a100e6a9b6": {
          "model_module": "@jupyter-widgets/controls",
          "model_name": "DescriptionStyleModel",
          "model_module_version": "1.5.0",
          "state": {
            "_model_module": "@jupyter-widgets/controls",
            "_model_module_version": "1.5.0",
            "_model_name": "DescriptionStyleModel",
            "_view_count": null,
            "_view_module": "@jupyter-widgets/base",
            "_view_module_version": "1.2.0",
            "_view_name": "StyleView",
            "description_width": ""
          }
        },
        "54b1e517ea5a4c3c9dfc97dd963a154e": {
          "model_module": "@jupyter-widgets/base",
          "model_name": "LayoutModel",
          "model_module_version": "1.2.0",
          "state": {
            "_model_module": "@jupyter-widgets/base",
            "_model_module_version": "1.2.0",
            "_model_name": "LayoutModel",
            "_view_count": null,
            "_view_module": "@jupyter-widgets/base",
            "_view_module_version": "1.2.0",
            "_view_name": "LayoutView",
            "align_content": null,
            "align_items": null,
            "align_self": null,
            "border": null,
            "bottom": null,
            "display": null,
            "flex": null,
            "flex_flow": null,
            "grid_area": null,
            "grid_auto_columns": null,
            "grid_auto_flow": null,
            "grid_auto_rows": null,
            "grid_column": null,
            "grid_gap": null,
            "grid_row": null,
            "grid_template_areas": null,
            "grid_template_columns": null,
            "grid_template_rows": null,
            "height": null,
            "justify_content": null,
            "justify_items": null,
            "left": null,
            "margin": null,
            "max_height": null,
            "max_width": null,
            "min_height": null,
            "min_width": null,
            "object_fit": null,
            "object_position": null,
            "order": null,
            "overflow": null,
            "overflow_x": null,
            "overflow_y": null,
            "padding": null,
            "right": null,
            "top": null,
            "visibility": null,
            "width": null
          }
        },
        "fc9ebc0263e34623abda499ac08ec90a": {
          "model_module": "@jupyter-widgets/controls",
          "model_name": "ProgressStyleModel",
          "model_module_version": "1.5.0",
          "state": {
            "_model_module": "@jupyter-widgets/controls",
            "_model_module_version": "1.5.0",
            "_model_name": "ProgressStyleModel",
            "_view_count": null,
            "_view_module": "@jupyter-widgets/base",
            "_view_module_version": "1.2.0",
            "_view_name": "StyleView",
            "bar_color": null,
            "description_width": ""
          }
        },
        "eba8d2579a254e2ab0d21fa561534ee7": {
          "model_module": "@jupyter-widgets/base",
          "model_name": "LayoutModel",
          "model_module_version": "1.2.0",
          "state": {
            "_model_module": "@jupyter-widgets/base",
            "_model_module_version": "1.2.0",
            "_model_name": "LayoutModel",
            "_view_count": null,
            "_view_module": "@jupyter-widgets/base",
            "_view_module_version": "1.2.0",
            "_view_name": "LayoutView",
            "align_content": null,
            "align_items": null,
            "align_self": null,
            "border": null,
            "bottom": null,
            "display": null,
            "flex": null,
            "flex_flow": null,
            "grid_area": null,
            "grid_auto_columns": null,
            "grid_auto_flow": null,
            "grid_auto_rows": null,
            "grid_column": null,
            "grid_gap": null,
            "grid_row": null,
            "grid_template_areas": null,
            "grid_template_columns": null,
            "grid_template_rows": null,
            "height": null,
            "justify_content": null,
            "justify_items": null,
            "left": null,
            "margin": null,
            "max_height": null,
            "max_width": null,
            "min_height": null,
            "min_width": null,
            "object_fit": null,
            "object_position": null,
            "order": null,
            "overflow": null,
            "overflow_x": null,
            "overflow_y": null,
            "padding": null,
            "right": null,
            "top": null,
            "visibility": null,
            "width": null
          }
        },
        "fcef05df9f8d4a789aef0cef9ab5a390": {
          "model_module": "@jupyter-widgets/controls",
          "model_name": "DescriptionStyleModel",
          "model_module_version": "1.5.0",
          "state": {
            "_model_module": "@jupyter-widgets/controls",
            "_model_module_version": "1.5.0",
            "_model_name": "DescriptionStyleModel",
            "_view_count": null,
            "_view_module": "@jupyter-widgets/base",
            "_view_module_version": "1.2.0",
            "_view_name": "StyleView",
            "description_width": ""
          }
        },
        "73a5833bd57643af90b44613feaf4910": {
          "model_module": "@jupyter-widgets/controls",
          "model_name": "HBoxModel",
          "model_module_version": "1.5.0",
          "state": {
            "_dom_classes": [],
            "_model_module": "@jupyter-widgets/controls",
            "_model_module_version": "1.5.0",
            "_model_name": "HBoxModel",
            "_view_count": null,
            "_view_module": "@jupyter-widgets/controls",
            "_view_module_version": "1.5.0",
            "_view_name": "HBoxView",
            "box_style": "",
            "children": [
              "IPY_MODEL_515ed4ac7edb422380aa4a05cedfa5f6",
              "IPY_MODEL_5c5c0d368a49436ca792c1a99c30514b",
              "IPY_MODEL_b48a854e4bdf4272b7ad39522c91ba98"
            ],
            "layout": "IPY_MODEL_4360c9df4f4749b69bda1aecbdd06270"
          }
        },
        "515ed4ac7edb422380aa4a05cedfa5f6": {
          "model_module": "@jupyter-widgets/controls",
          "model_name": "HTMLModel",
          "model_module_version": "1.5.0",
          "state": {
            "_dom_classes": [],
            "_model_module": "@jupyter-widgets/controls",
            "_model_module_version": "1.5.0",
            "_model_name": "HTMLModel",
            "_view_count": null,
            "_view_module": "@jupyter-widgets/controls",
            "_view_module_version": "1.5.0",
            "_view_name": "HTMLView",
            "description": "",
            "description_tooltip": null,
            "layout": "IPY_MODEL_a30b726aea494a59a74a6c4cb9249c55",
            "placeholder": "​",
            "style": "IPY_MODEL_2816978c3c8d45a881934e715d8c1dbf",
            "value": "tokenizer.json: 100%"
          }
        },
        "5c5c0d368a49436ca792c1a99c30514b": {
          "model_module": "@jupyter-widgets/controls",
          "model_name": "FloatProgressModel",
          "model_module_version": "1.5.0",
          "state": {
            "_dom_classes": [],
            "_model_module": "@jupyter-widgets/controls",
            "_model_module_version": "1.5.0",
            "_model_name": "FloatProgressModel",
            "_view_count": null,
            "_view_module": "@jupyter-widgets/controls",
            "_view_module_version": "1.5.0",
            "_view_name": "ProgressView",
            "bar_style": "success",
            "description": "",
            "description_tooltip": null,
            "layout": "IPY_MODEL_517b2141115a42379608139b81a40033",
            "max": 2306039,
            "min": 0,
            "orientation": "horizontal",
            "style": "IPY_MODEL_ccc3d2add15a4eb1a40062e45d12f7a8",
            "value": 2306039
          }
        },
        "b48a854e4bdf4272b7ad39522c91ba98": {
          "model_module": "@jupyter-widgets/controls",
          "model_name": "HTMLModel",
          "model_module_version": "1.5.0",
          "state": {
            "_dom_classes": [],
            "_model_module": "@jupyter-widgets/controls",
            "_model_module_version": "1.5.0",
            "_model_name": "HTMLModel",
            "_view_count": null,
            "_view_module": "@jupyter-widgets/controls",
            "_view_module_version": "1.5.0",
            "_view_name": "HTMLView",
            "description": "",
            "description_tooltip": null,
            "layout": "IPY_MODEL_3c28f1b57c26498ebf09fc5df0c29eb5",
            "placeholder": "​",
            "style": "IPY_MODEL_686fcbbd7f8c418bb65356b37a6c748b",
            "value": " 2.31M/2.31M [00:00&lt;00:00, 10.4MB/s]"
          }
        },
        "4360c9df4f4749b69bda1aecbdd06270": {
          "model_module": "@jupyter-widgets/base",
          "model_name": "LayoutModel",
          "model_module_version": "1.2.0",
          "state": {
            "_model_module": "@jupyter-widgets/base",
            "_model_module_version": "1.2.0",
            "_model_name": "LayoutModel",
            "_view_count": null,
            "_view_module": "@jupyter-widgets/base",
            "_view_module_version": "1.2.0",
            "_view_name": "LayoutView",
            "align_content": null,
            "align_items": null,
            "align_self": null,
            "border": null,
            "bottom": null,
            "display": null,
            "flex": null,
            "flex_flow": null,
            "grid_area": null,
            "grid_auto_columns": null,
            "grid_auto_flow": null,
            "grid_auto_rows": null,
            "grid_column": null,
            "grid_gap": null,
            "grid_row": null,
            "grid_template_areas": null,
            "grid_template_columns": null,
            "grid_template_rows": null,
            "height": null,
            "justify_content": null,
            "justify_items": null,
            "left": null,
            "margin": null,
            "max_height": null,
            "max_width": null,
            "min_height": null,
            "min_width": null,
            "object_fit": null,
            "object_position": null,
            "order": null,
            "overflow": null,
            "overflow_x": null,
            "overflow_y": null,
            "padding": null,
            "right": null,
            "top": null,
            "visibility": null,
            "width": null
          }
        },
        "a30b726aea494a59a74a6c4cb9249c55": {
          "model_module": "@jupyter-widgets/base",
          "model_name": "LayoutModel",
          "model_module_version": "1.2.0",
          "state": {
            "_model_module": "@jupyter-widgets/base",
            "_model_module_version": "1.2.0",
            "_model_name": "LayoutModel",
            "_view_count": null,
            "_view_module": "@jupyter-widgets/base",
            "_view_module_version": "1.2.0",
            "_view_name": "LayoutView",
            "align_content": null,
            "align_items": null,
            "align_self": null,
            "border": null,
            "bottom": null,
            "display": null,
            "flex": null,
            "flex_flow": null,
            "grid_area": null,
            "grid_auto_columns": null,
            "grid_auto_flow": null,
            "grid_auto_rows": null,
            "grid_column": null,
            "grid_gap": null,
            "grid_row": null,
            "grid_template_areas": null,
            "grid_template_columns": null,
            "grid_template_rows": null,
            "height": null,
            "justify_content": null,
            "justify_items": null,
            "left": null,
            "margin": null,
            "max_height": null,
            "max_width": null,
            "min_height": null,
            "min_width": null,
            "object_fit": null,
            "object_position": null,
            "order": null,
            "overflow": null,
            "overflow_x": null,
            "overflow_y": null,
            "padding": null,
            "right": null,
            "top": null,
            "visibility": null,
            "width": null
          }
        },
        "2816978c3c8d45a881934e715d8c1dbf": {
          "model_module": "@jupyter-widgets/controls",
          "model_name": "DescriptionStyleModel",
          "model_module_version": "1.5.0",
          "state": {
            "_model_module": "@jupyter-widgets/controls",
            "_model_module_version": "1.5.0",
            "_model_name": "DescriptionStyleModel",
            "_view_count": null,
            "_view_module": "@jupyter-widgets/base",
            "_view_module_version": "1.2.0",
            "_view_name": "StyleView",
            "description_width": ""
          }
        },
        "517b2141115a42379608139b81a40033": {
          "model_module": "@jupyter-widgets/base",
          "model_name": "LayoutModel",
          "model_module_version": "1.2.0",
          "state": {
            "_model_module": "@jupyter-widgets/base",
            "_model_module_version": "1.2.0",
            "_model_name": "LayoutModel",
            "_view_count": null,
            "_view_module": "@jupyter-widgets/base",
            "_view_module_version": "1.2.0",
            "_view_name": "LayoutView",
            "align_content": null,
            "align_items": null,
            "align_self": null,
            "border": null,
            "bottom": null,
            "display": null,
            "flex": null,
            "flex_flow": null,
            "grid_area": null,
            "grid_auto_columns": null,
            "grid_auto_flow": null,
            "grid_auto_rows": null,
            "grid_column": null,
            "grid_gap": null,
            "grid_row": null,
            "grid_template_areas": null,
            "grid_template_columns": null,
            "grid_template_rows": null,
            "height": null,
            "justify_content": null,
            "justify_items": null,
            "left": null,
            "margin": null,
            "max_height": null,
            "max_width": null,
            "min_height": null,
            "min_width": null,
            "object_fit": null,
            "object_position": null,
            "order": null,
            "overflow": null,
            "overflow_x": null,
            "overflow_y": null,
            "padding": null,
            "right": null,
            "top": null,
            "visibility": null,
            "width": null
          }
        },
        "ccc3d2add15a4eb1a40062e45d12f7a8": {
          "model_module": "@jupyter-widgets/controls",
          "model_name": "ProgressStyleModel",
          "model_module_version": "1.5.0",
          "state": {
            "_model_module": "@jupyter-widgets/controls",
            "_model_module_version": "1.5.0",
            "_model_name": "ProgressStyleModel",
            "_view_count": null,
            "_view_module": "@jupyter-widgets/base",
            "_view_module_version": "1.2.0",
            "_view_name": "StyleView",
            "bar_color": null,
            "description_width": ""
          }
        },
        "3c28f1b57c26498ebf09fc5df0c29eb5": {
          "model_module": "@jupyter-widgets/base",
          "model_name": "LayoutModel",
          "model_module_version": "1.2.0",
          "state": {
            "_model_module": "@jupyter-widgets/base",
            "_model_module_version": "1.2.0",
            "_model_name": "LayoutModel",
            "_view_count": null,
            "_view_module": "@jupyter-widgets/base",
            "_view_module_version": "1.2.0",
            "_view_name": "LayoutView",
            "align_content": null,
            "align_items": null,
            "align_self": null,
            "border": null,
            "bottom": null,
            "display": null,
            "flex": null,
            "flex_flow": null,
            "grid_area": null,
            "grid_auto_columns": null,
            "grid_auto_flow": null,
            "grid_auto_rows": null,
            "grid_column": null,
            "grid_gap": null,
            "grid_row": null,
            "grid_template_areas": null,
            "grid_template_columns": null,
            "grid_template_rows": null,
            "height": null,
            "justify_content": null,
            "justify_items": null,
            "left": null,
            "margin": null,
            "max_height": null,
            "max_width": null,
            "min_height": null,
            "min_width": null,
            "object_fit": null,
            "object_position": null,
            "order": null,
            "overflow": null,
            "overflow_x": null,
            "overflow_y": null,
            "padding": null,
            "right": null,
            "top": null,
            "visibility": null,
            "width": null
          }
        },
        "686fcbbd7f8c418bb65356b37a6c748b": {
          "model_module": "@jupyter-widgets/controls",
          "model_name": "DescriptionStyleModel",
          "model_module_version": "1.5.0",
          "state": {
            "_model_module": "@jupyter-widgets/controls",
            "_model_module_version": "1.5.0",
            "_model_name": "DescriptionStyleModel",
            "_view_count": null,
            "_view_module": "@jupyter-widgets/base",
            "_view_module_version": "1.2.0",
            "_view_name": "StyleView",
            "description_width": ""
          }
        },
        "5f8d33ee02b7499b8977b1b32f339689": {
          "model_module": "@jupyter-widgets/controls",
          "model_name": "HBoxModel",
          "model_module_version": "1.5.0",
          "state": {
            "_dom_classes": [],
            "_model_module": "@jupyter-widgets/controls",
            "_model_module_version": "1.5.0",
            "_model_name": "HBoxModel",
            "_view_count": null,
            "_view_module": "@jupyter-widgets/controls",
            "_view_module_version": "1.5.0",
            "_view_name": "HBoxView",
            "box_style": "",
            "children": [
              "IPY_MODEL_8eccf2c1a5d346ddacf1d470051e668e",
              "IPY_MODEL_70fdaad36e1c468baecea235d51bca26",
              "IPY_MODEL_90ccce8da5c6410b93fc3ba2a12629c8"
            ],
            "layout": "IPY_MODEL_dc8d2da18707482e97564e1446454f9e"
          }
        },
        "8eccf2c1a5d346ddacf1d470051e668e": {
          "model_module": "@jupyter-widgets/controls",
          "model_name": "HTMLModel",
          "model_module_version": "1.5.0",
          "state": {
            "_dom_classes": [],
            "_model_module": "@jupyter-widgets/controls",
            "_model_module_version": "1.5.0",
            "_model_name": "HTMLModel",
            "_view_count": null,
            "_view_module": "@jupyter-widgets/controls",
            "_view_module_version": "1.5.0",
            "_view_name": "HTMLView",
            "description": "",
            "description_tooltip": null,
            "layout": "IPY_MODEL_7ba766575ff74214b307e3e7a5f4e9dc",
            "placeholder": "​",
            "style": "IPY_MODEL_8303a278dada445992b08852b690aa41",
            "value": "special_tokens_map.json: 100%"
          }
        },
        "70fdaad36e1c468baecea235d51bca26": {
          "model_module": "@jupyter-widgets/controls",
          "model_name": "FloatProgressModel",
          "model_module_version": "1.5.0",
          "state": {
            "_dom_classes": [],
            "_model_module": "@jupyter-widgets/controls",
            "_model_module_version": "1.5.0",
            "_model_name": "FloatProgressModel",
            "_view_count": null,
            "_view_module": "@jupyter-widgets/controls",
            "_view_module_version": "1.5.0",
            "_view_name": "ProgressView",
            "bar_style": "success",
            "description": "",
            "description_tooltip": null,
            "layout": "IPY_MODEL_44469ad81c7d40748b163f89c2655705",
            "max": 112,
            "min": 0,
            "orientation": "horizontal",
            "style": "IPY_MODEL_99fc671514644d989c8ce72414e785c6",
            "value": 112
          }
        },
        "90ccce8da5c6410b93fc3ba2a12629c8": {
          "model_module": "@jupyter-widgets/controls",
          "model_name": "HTMLModel",
          "model_module_version": "1.5.0",
          "state": {
            "_dom_classes": [],
            "_model_module": "@jupyter-widgets/controls",
            "_model_module_version": "1.5.0",
            "_model_name": "HTMLModel",
            "_view_count": null,
            "_view_module": "@jupyter-widgets/controls",
            "_view_module_version": "1.5.0",
            "_view_name": "HTMLView",
            "description": "",
            "description_tooltip": null,
            "layout": "IPY_MODEL_d6fc2a12fa2648df92511627c45479b6",
            "placeholder": "​",
            "style": "IPY_MODEL_a50544fc2ab748edb0237bab328bd2d7",
            "value": " 112/112 [00:00&lt;00:00, 6.13kB/s]"
          }
        },
        "dc8d2da18707482e97564e1446454f9e": {
          "model_module": "@jupyter-widgets/base",
          "model_name": "LayoutModel",
          "model_module_version": "1.2.0",
          "state": {
            "_model_module": "@jupyter-widgets/base",
            "_model_module_version": "1.2.0",
            "_model_name": "LayoutModel",
            "_view_count": null,
            "_view_module": "@jupyter-widgets/base",
            "_view_module_version": "1.2.0",
            "_view_name": "LayoutView",
            "align_content": null,
            "align_items": null,
            "align_self": null,
            "border": null,
            "bottom": null,
            "display": null,
            "flex": null,
            "flex_flow": null,
            "grid_area": null,
            "grid_auto_columns": null,
            "grid_auto_flow": null,
            "grid_auto_rows": null,
            "grid_column": null,
            "grid_gap": null,
            "grid_row": null,
            "grid_template_areas": null,
            "grid_template_columns": null,
            "grid_template_rows": null,
            "height": null,
            "justify_content": null,
            "justify_items": null,
            "left": null,
            "margin": null,
            "max_height": null,
            "max_width": null,
            "min_height": null,
            "min_width": null,
            "object_fit": null,
            "object_position": null,
            "order": null,
            "overflow": null,
            "overflow_x": null,
            "overflow_y": null,
            "padding": null,
            "right": null,
            "top": null,
            "visibility": null,
            "width": null
          }
        },
        "7ba766575ff74214b307e3e7a5f4e9dc": {
          "model_module": "@jupyter-widgets/base",
          "model_name": "LayoutModel",
          "model_module_version": "1.2.0",
          "state": {
            "_model_module": "@jupyter-widgets/base",
            "_model_module_version": "1.2.0",
            "_model_name": "LayoutModel",
            "_view_count": null,
            "_view_module": "@jupyter-widgets/base",
            "_view_module_version": "1.2.0",
            "_view_name": "LayoutView",
            "align_content": null,
            "align_items": null,
            "align_self": null,
            "border": null,
            "bottom": null,
            "display": null,
            "flex": null,
            "flex_flow": null,
            "grid_area": null,
            "grid_auto_columns": null,
            "grid_auto_flow": null,
            "grid_auto_rows": null,
            "grid_column": null,
            "grid_gap": null,
            "grid_row": null,
            "grid_template_areas": null,
            "grid_template_columns": null,
            "grid_template_rows": null,
            "height": null,
            "justify_content": null,
            "justify_items": null,
            "left": null,
            "margin": null,
            "max_height": null,
            "max_width": null,
            "min_height": null,
            "min_width": null,
            "object_fit": null,
            "object_position": null,
            "order": null,
            "overflow": null,
            "overflow_x": null,
            "overflow_y": null,
            "padding": null,
            "right": null,
            "top": null,
            "visibility": null,
            "width": null
          }
        },
        "8303a278dada445992b08852b690aa41": {
          "model_module": "@jupyter-widgets/controls",
          "model_name": "DescriptionStyleModel",
          "model_module_version": "1.5.0",
          "state": {
            "_model_module": "@jupyter-widgets/controls",
            "_model_module_version": "1.5.0",
            "_model_name": "DescriptionStyleModel",
            "_view_count": null,
            "_view_module": "@jupyter-widgets/base",
            "_view_module_version": "1.2.0",
            "_view_name": "StyleView",
            "description_width": ""
          }
        },
        "44469ad81c7d40748b163f89c2655705": {
          "model_module": "@jupyter-widgets/base",
          "model_name": "LayoutModel",
          "model_module_version": "1.2.0",
          "state": {
            "_model_module": "@jupyter-widgets/base",
            "_model_module_version": "1.2.0",
            "_model_name": "LayoutModel",
            "_view_count": null,
            "_view_module": "@jupyter-widgets/base",
            "_view_module_version": "1.2.0",
            "_view_name": "LayoutView",
            "align_content": null,
            "align_items": null,
            "align_self": null,
            "border": null,
            "bottom": null,
            "display": null,
            "flex": null,
            "flex_flow": null,
            "grid_area": null,
            "grid_auto_columns": null,
            "grid_auto_flow": null,
            "grid_auto_rows": null,
            "grid_column": null,
            "grid_gap": null,
            "grid_row": null,
            "grid_template_areas": null,
            "grid_template_columns": null,
            "grid_template_rows": null,
            "height": null,
            "justify_content": null,
            "justify_items": null,
            "left": null,
            "margin": null,
            "max_height": null,
            "max_width": null,
            "min_height": null,
            "min_width": null,
            "object_fit": null,
            "object_position": null,
            "order": null,
            "overflow": null,
            "overflow_x": null,
            "overflow_y": null,
            "padding": null,
            "right": null,
            "top": null,
            "visibility": null,
            "width": null
          }
        },
        "99fc671514644d989c8ce72414e785c6": {
          "model_module": "@jupyter-widgets/controls",
          "model_name": "ProgressStyleModel",
          "model_module_version": "1.5.0",
          "state": {
            "_model_module": "@jupyter-widgets/controls",
            "_model_module_version": "1.5.0",
            "_model_name": "ProgressStyleModel",
            "_view_count": null,
            "_view_module": "@jupyter-widgets/base",
            "_view_module_version": "1.2.0",
            "_view_name": "StyleView",
            "bar_color": null,
            "description_width": ""
          }
        },
        "d6fc2a12fa2648df92511627c45479b6": {
          "model_module": "@jupyter-widgets/base",
          "model_name": "LayoutModel",
          "model_module_version": "1.2.0",
          "state": {
            "_model_module": "@jupyter-widgets/base",
            "_model_module_version": "1.2.0",
            "_model_name": "LayoutModel",
            "_view_count": null,
            "_view_module": "@jupyter-widgets/base",
            "_view_module_version": "1.2.0",
            "_view_name": "LayoutView",
            "align_content": null,
            "align_items": null,
            "align_self": null,
            "border": null,
            "bottom": null,
            "display": null,
            "flex": null,
            "flex_flow": null,
            "grid_area": null,
            "grid_auto_columns": null,
            "grid_auto_flow": null,
            "grid_auto_rows": null,
            "grid_column": null,
            "grid_gap": null,
            "grid_row": null,
            "grid_template_areas": null,
            "grid_template_columns": null,
            "grid_template_rows": null,
            "height": null,
            "justify_content": null,
            "justify_items": null,
            "left": null,
            "margin": null,
            "max_height": null,
            "max_width": null,
            "min_height": null,
            "min_width": null,
            "object_fit": null,
            "object_position": null,
            "order": null,
            "overflow": null,
            "overflow_x": null,
            "overflow_y": null,
            "padding": null,
            "right": null,
            "top": null,
            "visibility": null,
            "width": null
          }
        },
        "a50544fc2ab748edb0237bab328bd2d7": {
          "model_module": "@jupyter-widgets/controls",
          "model_name": "DescriptionStyleModel",
          "model_module_version": "1.5.0",
          "state": {
            "_model_module": "@jupyter-widgets/controls",
            "_model_module_version": "1.5.0",
            "_model_name": "DescriptionStyleModel",
            "_view_count": null,
            "_view_module": "@jupyter-widgets/base",
            "_view_module_version": "1.2.0",
            "_view_name": "StyleView",
            "description_width": ""
          }
        },
        "59b569f12a6348e0ba689962ec2ae0f0": {
          "model_module": "@jupyter-widgets/controls",
          "model_name": "HBoxModel",
          "model_module_version": "1.5.0",
          "state": {
            "_dom_classes": [],
            "_model_module": "@jupyter-widgets/controls",
            "_model_module_version": "1.5.0",
            "_model_name": "HBoxModel",
            "_view_count": null,
            "_view_module": "@jupyter-widgets/controls",
            "_view_module_version": "1.5.0",
            "_view_name": "HBoxView",
            "box_style": "",
            "children": [
              "IPY_MODEL_182fef059701429ea52130817ff89bde",
              "IPY_MODEL_c01d7d34312f4fada11fea674f695ba6",
              "IPY_MODEL_4fd207e6f8ca49a5bb292e91523f94f1"
            ],
            "layout": "IPY_MODEL_ff6e2cf56582407d869880e6de76d926"
          }
        },
        "182fef059701429ea52130817ff89bde": {
          "model_module": "@jupyter-widgets/controls",
          "model_name": "HTMLModel",
          "model_module_version": "1.5.0",
          "state": {
            "_dom_classes": [],
            "_model_module": "@jupyter-widgets/controls",
            "_model_module_version": "1.5.0",
            "_model_name": "HTMLModel",
            "_view_count": null,
            "_view_module": "@jupyter-widgets/controls",
            "_view_module_version": "1.5.0",
            "_view_name": "HTMLView",
            "description": "",
            "description_tooltip": null,
            "layout": "IPY_MODEL_1631e8d4f41a434f9e786fcca11d247f",
            "placeholder": "​",
            "style": "IPY_MODEL_fa32dac92a324337aa8e192d688db6ee",
            "value": "model.safetensors: 100%"
          }
        },
        "c01d7d34312f4fada11fea674f695ba6": {
          "model_module": "@jupyter-widgets/controls",
          "model_name": "FloatProgressModel",
          "model_module_version": "1.5.0",
          "state": {
            "_dom_classes": [],
            "_model_module": "@jupyter-widgets/controls",
            "_model_module_version": "1.5.0",
            "_model_name": "FloatProgressModel",
            "_view_count": null,
            "_view_module": "@jupyter-widgets/controls",
            "_view_module_version": "1.5.0",
            "_view_name": "ProgressView",
            "bar_style": "success",
            "description": "",
            "description_tooltip": null,
            "layout": "IPY_MODEL_92bd9223d8c940938b0ceceda8b6d416",
            "max": 543432324,
            "min": 0,
            "orientation": "horizontal",
            "style": "IPY_MODEL_e7d04349e2784f2a99f8fe0dc5334d84",
            "value": 543432324
          }
        },
        "4fd207e6f8ca49a5bb292e91523f94f1": {
          "model_module": "@jupyter-widgets/controls",
          "model_name": "HTMLModel",
          "model_module_version": "1.5.0",
          "state": {
            "_dom_classes": [],
            "_model_module": "@jupyter-widgets/controls",
            "_model_module_version": "1.5.0",
            "_model_name": "HTMLModel",
            "_view_count": null,
            "_view_module": "@jupyter-widgets/controls",
            "_view_module_version": "1.5.0",
            "_view_name": "HTMLView",
            "description": "",
            "description_tooltip": null,
            "layout": "IPY_MODEL_788b523245af412a9f69fb6a77c459fb",
            "placeholder": "​",
            "style": "IPY_MODEL_a255e57ce3e0441d90e87873462e7998",
            "value": " 543M/543M [00:07&lt;00:00, 92.4MB/s]"
          }
        },
        "ff6e2cf56582407d869880e6de76d926": {
          "model_module": "@jupyter-widgets/base",
          "model_name": "LayoutModel",
          "model_module_version": "1.2.0",
          "state": {
            "_model_module": "@jupyter-widgets/base",
            "_model_module_version": "1.2.0",
            "_model_name": "LayoutModel",
            "_view_count": null,
            "_view_module": "@jupyter-widgets/base",
            "_view_module_version": "1.2.0",
            "_view_name": "LayoutView",
            "align_content": null,
            "align_items": null,
            "align_self": null,
            "border": null,
            "bottom": null,
            "display": null,
            "flex": null,
            "flex_flow": null,
            "grid_area": null,
            "grid_auto_columns": null,
            "grid_auto_flow": null,
            "grid_auto_rows": null,
            "grid_column": null,
            "grid_gap": null,
            "grid_row": null,
            "grid_template_areas": null,
            "grid_template_columns": null,
            "grid_template_rows": null,
            "height": null,
            "justify_content": null,
            "justify_items": null,
            "left": null,
            "margin": null,
            "max_height": null,
            "max_width": null,
            "min_height": null,
            "min_width": null,
            "object_fit": null,
            "object_position": null,
            "order": null,
            "overflow": null,
            "overflow_x": null,
            "overflow_y": null,
            "padding": null,
            "right": null,
            "top": null,
            "visibility": null,
            "width": null
          }
        },
        "1631e8d4f41a434f9e786fcca11d247f": {
          "model_module": "@jupyter-widgets/base",
          "model_name": "LayoutModel",
          "model_module_version": "1.2.0",
          "state": {
            "_model_module": "@jupyter-widgets/base",
            "_model_module_version": "1.2.0",
            "_model_name": "LayoutModel",
            "_view_count": null,
            "_view_module": "@jupyter-widgets/base",
            "_view_module_version": "1.2.0",
            "_view_name": "LayoutView",
            "align_content": null,
            "align_items": null,
            "align_self": null,
            "border": null,
            "bottom": null,
            "display": null,
            "flex": null,
            "flex_flow": null,
            "grid_area": null,
            "grid_auto_columns": null,
            "grid_auto_flow": null,
            "grid_auto_rows": null,
            "grid_column": null,
            "grid_gap": null,
            "grid_row": null,
            "grid_template_areas": null,
            "grid_template_columns": null,
            "grid_template_rows": null,
            "height": null,
            "justify_content": null,
            "justify_items": null,
            "left": null,
            "margin": null,
            "max_height": null,
            "max_width": null,
            "min_height": null,
            "min_width": null,
            "object_fit": null,
            "object_position": null,
            "order": null,
            "overflow": null,
            "overflow_x": null,
            "overflow_y": null,
            "padding": null,
            "right": null,
            "top": null,
            "visibility": null,
            "width": null
          }
        },
        "fa32dac92a324337aa8e192d688db6ee": {
          "model_module": "@jupyter-widgets/controls",
          "model_name": "DescriptionStyleModel",
          "model_module_version": "1.5.0",
          "state": {
            "_model_module": "@jupyter-widgets/controls",
            "_model_module_version": "1.5.0",
            "_model_name": "DescriptionStyleModel",
            "_view_count": null,
            "_view_module": "@jupyter-widgets/base",
            "_view_module_version": "1.2.0",
            "_view_name": "StyleView",
            "description_width": ""
          }
        },
        "92bd9223d8c940938b0ceceda8b6d416": {
          "model_module": "@jupyter-widgets/base",
          "model_name": "LayoutModel",
          "model_module_version": "1.2.0",
          "state": {
            "_model_module": "@jupyter-widgets/base",
            "_model_module_version": "1.2.0",
            "_model_name": "LayoutModel",
            "_view_count": null,
            "_view_module": "@jupyter-widgets/base",
            "_view_module_version": "1.2.0",
            "_view_name": "LayoutView",
            "align_content": null,
            "align_items": null,
            "align_self": null,
            "border": null,
            "bottom": null,
            "display": null,
            "flex": null,
            "flex_flow": null,
            "grid_area": null,
            "grid_auto_columns": null,
            "grid_auto_flow": null,
            "grid_auto_rows": null,
            "grid_column": null,
            "grid_gap": null,
            "grid_row": null,
            "grid_template_areas": null,
            "grid_template_columns": null,
            "grid_template_rows": null,
            "height": null,
            "justify_content": null,
            "justify_items": null,
            "left": null,
            "margin": null,
            "max_height": null,
            "max_width": null,
            "min_height": null,
            "min_width": null,
            "object_fit": null,
            "object_position": null,
            "order": null,
            "overflow": null,
            "overflow_x": null,
            "overflow_y": null,
            "padding": null,
            "right": null,
            "top": null,
            "visibility": null,
            "width": null
          }
        },
        "e7d04349e2784f2a99f8fe0dc5334d84": {
          "model_module": "@jupyter-widgets/controls",
          "model_name": "ProgressStyleModel",
          "model_module_version": "1.5.0",
          "state": {
            "_model_module": "@jupyter-widgets/controls",
            "_model_module_version": "1.5.0",
            "_model_name": "ProgressStyleModel",
            "_view_count": null,
            "_view_module": "@jupyter-widgets/base",
            "_view_module_version": "1.2.0",
            "_view_name": "StyleView",
            "bar_color": null,
            "description_width": ""
          }
        },
        "788b523245af412a9f69fb6a77c459fb": {
          "model_module": "@jupyter-widgets/base",
          "model_name": "LayoutModel",
          "model_module_version": "1.2.0",
          "state": {
            "_model_module": "@jupyter-widgets/base",
            "_model_module_version": "1.2.0",
            "_model_name": "LayoutModel",
            "_view_count": null,
            "_view_module": "@jupyter-widgets/base",
            "_view_module_version": "1.2.0",
            "_view_name": "LayoutView",
            "align_content": null,
            "align_items": null,
            "align_self": null,
            "border": null,
            "bottom": null,
            "display": null,
            "flex": null,
            "flex_flow": null,
            "grid_area": null,
            "grid_auto_columns": null,
            "grid_auto_flow": null,
            "grid_auto_rows": null,
            "grid_column": null,
            "grid_gap": null,
            "grid_row": null,
            "grid_template_areas": null,
            "grid_template_columns": null,
            "grid_template_rows": null,
            "height": null,
            "justify_content": null,
            "justify_items": null,
            "left": null,
            "margin": null,
            "max_height": null,
            "max_width": null,
            "min_height": null,
            "min_width": null,
            "object_fit": null,
            "object_position": null,
            "order": null,
            "overflow": null,
            "overflow_x": null,
            "overflow_y": null,
            "padding": null,
            "right": null,
            "top": null,
            "visibility": null,
            "width": null
          }
        },
        "a255e57ce3e0441d90e87873462e7998": {
          "model_module": "@jupyter-widgets/controls",
          "model_name": "DescriptionStyleModel",
          "model_module_version": "1.5.0",
          "state": {
            "_model_module": "@jupyter-widgets/controls",
            "_model_module_version": "1.5.0",
            "_model_name": "DescriptionStyleModel",
            "_view_count": null,
            "_view_module": "@jupyter-widgets/base",
            "_view_module_version": "1.2.0",
            "_view_name": "StyleView",
            "description_width": ""
          }
        }
      }
    }
  },
  "nbformat": 4,
  "nbformat_minor": 0
}